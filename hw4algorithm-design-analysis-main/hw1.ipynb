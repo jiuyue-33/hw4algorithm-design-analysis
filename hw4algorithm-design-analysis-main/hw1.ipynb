{
 "cells": [
  {
   "cell_type": "markdown",
   "metadata": {},
   "source": [
    "## algorithm design and anlysis-2025 spring  homework 1 \n",
    "**Deadline**：2025.5.14\n",
    "\n",
    "**name**:王姗姗\n",
    "\n",
    "\n",
    "note：\n",
    "---\n",
    "1. 带有\\*的题目，申请免上课的同学，必须完成，其他同学选作；\n",
    "2. 请独立完成，如求助了他人或者大模型，请著明，并且不可省略算法分析部分；\n",
    "4. 如若作答有雷同，全部取消成绩；\n",
    "3. 需要书面作答的题目，可以通过引用图片的形式添加，但是注意上传项目时包含所引用的图片的源文件；\n",
    "4. $log_n$ 默认表示$log_2{n}$;"
   ]
  },
  {
   "cell_type": "markdown",
   "metadata": {},
   "source": [
    "## 问题 1\n",
    "\n",
    "对于下面的每一对表达式(A, B), A是否能表示为B的 $\\Theta, \\Omega ,O$形式. 请注意, 这些关系中的零个、一个或多个可能成立。列出所有正确的。经常发生一些学生会,把指示写错, 所以请把关系写完整, 例如: $A = O(B),  A =\\Theta(B)$, 或$A = \\Omega(B)$。\n",
    "\n",
    "1. $A=n^2-100n, B=n^2$\n",
    "2. $A=logn, B=log_{1.2}n$\n",
    "3. $A=3^{2n}, B=2^{4n}$\n",
    "4. $A=2^{logn}, B=n$\n",
    "5. $A=\\log{\\log}{n},B=10^{10^{100}}$"
   ]
  },
  {
   "cell_type": "markdown",
   "metadata": {},
   "source": [
    "can refer a handwritten picture, pleas upload the picture in /fig/xxx.png\n",
    "answer:<img src=\"./fig/hw1q1-answer.jpg\" alt=\"drawing\" width=\"60%\"/>\n"
   ]
  },
  {
   "cell_type": "markdown",
   "metadata": {},
   "source": [
    "## 问题 2：\n",
    "\n",
    "假设有函数 $f$ 和 $g$ 使得 $f(n)$ = $O(g(n))$ 对于下面的每一个陈述, 请判断对错, 如果正确请给出证明, 否则请给出一个反例。\n",
    "\n",
    "1. $\\log{f(n)}$ = $O(\\log(1+g(n)))$\n",
    "2. $3^{f(n)}=O(3^{g(n)})$\n",
    "3. $(f(n))^2=O((g(n))^2)$ "
   ]
  },
  {
   "cell_type": "markdown",
   "metadata": {},
   "source": [
    "you can refer a handwritten picture, pleas upload the picture in /fig/xxx.png\n",
    "answer:<img src=\"./fig/hw1q2-answer.jpg\" alt=\"drawing\" width=\"60%\"/>"
   ]
  },
  {
   "cell_type": "markdown",
   "metadata": {},
   "source": [
    "## 问题 3\n",
    "\n",
    "根据下列递归公式, 计算下列 $T(n)$ 对应的的渐近上界。要求所求的边界尽可能的紧（tight）, 请写明步骤。\n",
    "\n",
    "1. $T(1)=1; T(n)=T(n/4)+1$ for $n>1$\n",
    "2. $T(1)=1;T(n)=3T(n/3)+n^2$ for $n>1$\n",
    "3. $T(1)=1;T(n)=T(2n/3)+1$ for $n>1$\n",
    "4. $T(1)=1;T(n)=5T(n/4)+n$ for $n>1$\n",
    "5. $T(n)=1 \\ for\\ n \\le 2 ; T(n)=T(\\sqrt{n})+1 \\ for \\ n>2$"
   ]
  },
  {
   "cell_type": "markdown",
   "metadata": {},
   "source": [
    "can refer a handwritten picture, pleas upload the picture in /fig/xxx.png\n",
    "answer:<img src=\"./fig/hw1q3-answer.jpg\" alt=\"drawing\" width=\"60%\"/>"
   ]
  },
  {
   "cell_type": "markdown",
   "metadata": {},
   "source": [
    "## 问题 4：\n",
    "\n",
    "给定一个包含n个元素的数组 `profits` , 它的第 `i` 个元素 `profits[i]` 表示一支股票第 `i` 天的**收益**（正数表示涨, 负数表示跌）。你只能选择 **某一天** 买入这只股票, 并选择在 **未来的某一个不同的日子** 卖出该股票。\n",
    "\n",
    "1. 设计一个算法来计算你所能获取的最大利润和对应买入和卖出的日期。请分析算法方案, 计算其时间复杂度, 并且使用python编程实现该算法。\n",
    "\n",
    "2. \\* 设计一个时间复杂度为 $O(n)$的算法实现该算法\n",
    "\n",
    "e.g. :\n",
    "---\n",
    "profits=[3,2,1,-7,5,2,-1,3,-1], 第5天买入, 第8天卖出, 收益最大：9\n",
    "\n"
   ]
  },
  {
   "cell_type": "markdown",
   "metadata": {},
   "source": [
    "idea:\n",
    "1. 首先看见这个题的想法是使用分治算法，假设最大的收益在左边、右边，这两种假设都很好解决，但是还要考虑一种情形就是最大收益跨越了左、右部分，因此要特别考虑。该分治算法的关系式可以表示为$T(n) = 2T(n/2) + O(n)$，因此根据主定理，$a=2,b=2,f(n)=O(n)$，而$n^{log_b a}=n=f(n)$，因此根据主定理2可知$T(n)=\\theta(nlogn)$。\n",
    "2. 然后第二题询问的是设计一个时间复杂度为 $O(n)$的算法，而采用上述分治算法的时间复杂度为$\\theta(nlogn)$，在通过老师上课讲解时听见可以使用累加收益的方法，用动态规划的方法进行设计，只需遍历一次数据便可解决问题，因此有了时间复杂度为$O(n)$的算法。"
   ]
  },
  {
   "cell_type": "code",
   "execution_count": 55,
   "metadata": {},
   "outputs": [
    {
     "name": "stdout",
     "output_type": "stream",
     "text": [
      "第5天买入，第8天卖出，收益最大：9\n"
     ]
    }
   ],
   "source": [
    "# add your code\n",
    "# 采用了分治算法的思想，通过将问题分解成左右两部分来解决问题，时间复杂度为 Θ(nlog^n)\n",
    "# 首先计算左半部分最大的和，然后计算右半部分最大的和，再计算跨越左右部分最大的和，使之相加\n",
    "# 最后分别比较三者的大小，返回最大的和和数组下标，即分别对应着收益最大和买入、卖出的天数\n",
    "def MaxSubarray_DC(A, p, r):\n",
    "    # 只有一个元素的话，直接返回\n",
    "    if p == r:\n",
    "        return A[p], p, r\n",
    "\n",
    "    q = (p + r) // 2\n",
    "\n",
    "    # 计算左半部分最大的和\n",
    "    left_sum, left_low, left_high = MaxSubarray_DC(A, p, q)\n",
    "\n",
    "    # 计算右半部分最大的和\n",
    "    right_sum, right_low, right_high = MaxSubarray_DC(A, q + 1, r)\n",
    "\n",
    "    # 计算跨越左右最大的和\n",
    "    left_max = float('-inf')\n",
    "    sum = 0\n",
    "    max_left_index = q\n",
    "    #通过从q向左遍历，依次累加并记录最大和\n",
    "    for i in range(q, p - 1, -1):\n",
    "        sum += A[i]\n",
    "        if sum > left_max:\n",
    "            left_max = sum\n",
    "            max_left_index = i\n",
    "\n",
    "    right_max = float('-inf')\n",
    "    sum = 0\n",
    "    max_right_index = q + 1\n",
    "    #通过从q+1向右遍历，依次累加并记录最大和\n",
    "    for j in range(q + 1, r + 1):\n",
    "        sum += A[j]\n",
    "        if sum > right_max:\n",
    "            right_max = sum\n",
    "            max_right_index = j\n",
    "            \n",
    "    #将左右的加起来，即和最大\n",
    "    cross_sum = left_max + right_max\n",
    "\n",
    "    # 进行对比，看最大的和落在左半部分、右半部分还是跨越左右了，并且返回最大值和对应下标\n",
    "    if left_sum >= right_sum and left_sum >= cross_sum:\n",
    "        return left_sum, left_low, left_high\n",
    "    elif right_sum >= left_sum and right_sum >= cross_sum:\n",
    "        return right_sum, right_low, right_high\n",
    "    else:\n",
    "        return cross_sum, max_left_index, max_right_index\n",
    "\n",
    "#测试用例\n",
    "profits = [3, 2, 1, -7, 5, 2, -1, 3, -1]\n",
    "max_profit, buy_day, sell_day = MaxSubarray_DC(profits, 0, len(profits) - 1)\n",
    "print(f\"第{buy_day + 1}天买入，第{sell_day + 1}天卖出，收益最大：{max_profit}\")"
   ]
  },
  {
   "cell_type": "code",
   "execution_count": 56,
   "metadata": {},
   "outputs": [
    {
     "name": "stdout",
     "output_type": "stream",
     "text": [
      "第5天买入，第8天卖出，收益最大：9\n"
     ]
    }
   ],
   "source": [
    "# an algorithm with O(n)\n",
    "# 采用了动态规划的思想，仅通过一次遍历就能够解决问题，因此时间复杂度为 O(n)\n",
    "# 代码的大体思路为累加每天的收益，用current_profit来存储当前的收益，max_profit存储最大的收益\n",
    "# 如果当前的收益大于最大的收益的话，那么就存储当前的收益，并记录日期\n",
    "# 如果当前的收益为负的话，那么将当前的收益置为0，并取i+1为下一次可能买入的日期\n",
    "def MaxSubarray_V(profits):\n",
    "    #初始化一些参数\n",
    "    max_profit = float('-inf')\n",
    "    current_profit = 0\n",
    "    buy_day = 0\n",
    "    sell_day = 0\n",
    "    temp_buy_day = 0 \n",
    "\n",
    "    for i in range(len(profits)):\n",
    "        current_profit += profits[i]\n",
    "\n",
    "        # 如果当前的收益大于最大的收益，更新最大收益和买卖日期\n",
    "        if current_profit > max_profit:\n",
    "            max_profit = current_profit\n",
    "            buy_day = temp_buy_day\n",
    "            sell_day = i\n",
    "\n",
    "        # 如果当前收益为负，置为0，并设置下一个可能买入的日期\n",
    "        if current_profit < 0:\n",
    "            current_profit = 0\n",
    "            temp_buy_day = i + 1 \n",
    "\n",
    "    return max_profit, buy_day, sell_day\n",
    "   \n",
    "# 测试用例   \n",
    "profits = [3, 2, 1, -7, 5, 2, -1, 3, -1]   \n",
    "max_profit, buy_day, sell_day = MaxSubarray_V(profits)   \n",
    "print(f\"第{buy_day + 1}天买入，第{sell_day + 1}天卖出，收益最大：{max_profit}\")"
   ]
  },
  {
   "cell_type": "markdown",
   "metadata": {},
   "source": [
    "## 问题 5：\n",
    "\n",
    "观察下方的分治算法（divide-and-conquer algorithm）的伪代码, 回答下面问题\n",
    "\n",
    "```latex\n",
    "DoSomething(A,p,r)\n",
    "-----\n",
    "n := r-p+1\n",
    "if n=2 and A[p]>A[r] then\n",
    "    swap A[p] and A[r]\n",
    "else if n >= 3 then\n",
    "    m = ceil(2n/3)\n",
    "    DoSomething(A,p,p+m-1)\n",
    "    DoSomething(A,r-m+1,r)\n",
    "    DoSomething(A,p,p+m-1)  \n",
    "    \n",
    "---\n",
    "first call: DoSomething(A,1,n)\n",
    "```\n",
    "\n",
    "note：$ceil(2n/3)=\\left\\lceil {2n/3} \\right\\rceil$；$:=$ 表示赋值, 等价于 $\\to$；A是一个包含n的整数元素的数组, \n",
    "\n",
    "1. 写出该算法时间复杂度的递归公式, 并求解其对应的渐进表示\n",
    "2. 描述一下该算法的功能, 并判断是否是最高效的解决方案\n",
    "3. 使用python编程实现上述算法或其对应的更高效版本的算法\n"
   ]
  },
  {
   "cell_type": "markdown",
   "metadata": {},
   "source": [
    "idea：\n",
    "1. 递归关系的通用表达式为$T(n)=aT(n/b)+f(n)$，在此公式中，$a$为分支的数量，$b$是每个子问题规模的缩放因子，$f(n)$代表最后合并处理后的结果所需要的时间复杂度。根据上面伪代码的形式得出：递归分为了$3$个子问题，因此$a=3$；而每个子问题处理$（2n/3）$大小的子问题；而由于上述的伪代码只是简单的分割以及没有涉及到需要遍历整个子数组的操作，合并操作涉及到的时间复杂度为$O(1)$。因此递归公式为$T(n)=3T(2n/3)+O(1)$。使用递归树法求解其渐进表示过程：第$0$层时，子问题数量为$1$个，每个子问题的大小为$n$个，当前层的总工作量为$O(1)$，第一层时，子问题数量为$3$个，每个子问题的大小为$（2n/3）$个，当前层的总工作量为$（3×O(1)）$，第二层时，子问题数量为$9$个，每个子问题的大小为$（2/3×2n/3）$个，当前层的总工作量为$（3×O(1)）... $到第$k$层时，子问题数量为 $3^{k}$个，每个子问题的大小为 $(2/3)^{k}n$，当前层的总工作量为 $3^{k}×O(1)$。当子问题大小$n=2$时，递归停止，因此我们令$(2/3)^{k}n=2$，取对数最终求得k≈$log_(3/2){n}$，为递归深度，根据每一层的工作量得出$T(n)=O(1)×$$(3^{k+1}-1)/(3-1)$$=O($$3^{k})$，带入得$3^{k}=$$n^{log_(3/2){n}}$，因此$T(n)=O($$n^{log_(3/2){n}}$)≈$O(n^{2.71})$。\n",
    "2. 听过阅读这个伪代码，我们看见在$DoSometing$里面被条件语句分成了两个部分，当$n=2$和$n>=3$,当$n=2$并且$A[p]>A[r]$时做的操作是交换$A[p]$与$A[r]$，因此我们可以看出这个分支是一个排序功能。然后我们看$n>3$这个分支，发现是先计算$m$，然后递归的调用了三次$DoSometing$这个算法：首先是对$A$数组中的左边部分进行递归调用，然后再对右半部分进行递归调用，最后再对左边部分进行递归调用，而对每一次的递归调用，输入的规模都被分成了$m$和$n-m$，其中$m = 2n / 3$。因此我们可以发现随着这样进行递归下去，会逐步将较大的元素“推”到最右侧，而较小的元素将会被“挤”到最左边来，因此这个分支是通过递归进行排序。因此整体来该算法的功能就是进行排序，由于它的时间复杂度约为T(n)≈ $O(n^{2.71})$ ,而快速排序的时间复杂度可以为$O(nlogn)$因此不是最高效的解决方案。\n",
    "3. 快速排序的思想是首先选定一个基准，将数组分成两部分，左边比基准小，右边比基准大，然后递归处理左右子数组，这样就完成了整个的排序。快速排序的平均时间复杂度为$O(nlogn)$。"
   ]
  },
  {
   "cell_type": "markdown",
   "metadata": {},
   "source": [
    "answer:\n",
    "1. $T(n)=3T(2n/3)+O(1)$；$T(n)=O(n^{log_(3/2){n}})≈O(n^{2.71})$\n",
    "2. 这个算法的功能为排序，不是最高效的解决方案。"
   ]
  },
  {
   "cell_type": "code",
   "execution_count": 31,
   "metadata": {},
   "outputs": [
    {
     "name": "stdout",
     "output_type": "stream",
     "text": [
      "快速排序结果:[1, 2, 3, 4, 5, 6]\n"
     ]
    }
   ],
   "source": [
    "# add your code here\n",
    "# your algorithm time complexity is :O(nlogn)\n",
    "# 实现快速排序，使用quicksort函数来递归实现快速排序，使用partition函数来选择一个pivot，并将其放到i的位置，并返回下标索引\n",
    "def quicksort(A, low, high):\n",
    "    #当数组长度>1的时候进行分区和递归排序左右部分\n",
    "    if low < high:\n",
    "        pivot_idx = partition(A, low, high)\n",
    "        quicksort(A, low, pivot_idx - 1)\n",
    "        quicksort(A, pivot_idx + 1, high)\n",
    "\n",
    "#选择pivot并返回下标\n",
    "def partition(A, low, high):\n",
    "    pivot = A[high]\n",
    "    i = low\n",
    "    for j in range(low, high):\n",
    "        if A[j] < pivot:\n",
    "            A[i], A[j] = A[j], A[i]\n",
    "            i += 1\n",
    "    A[i], A[high] = A[high], A[i]\n",
    "    return i\n",
    "\n",
    "# 测试用例\n",
    "A = [3, 2, 4, 1, 5, 6]\n",
    "quicksort(A, 0, len(A) - 1)\n",
    "print(f\"快速排序结果:{A}\")"
   ]
  },
  {
   "cell_type": "markdown",
   "metadata": {},
   "source": [
    "## 问题 6：\n",
    "\n",
    "给定一个大小为 `n` 的数组 `nums` , 返回其中的多数元素。多数元素是指在数组中出现次数 **大于** `⌊ n/2 ⌋` 的元素。\n",
    "\n",
    "你可以假设数组是非空的, 并且给定的数组总是存在多数元素。\n",
    "\n",
    "1. 设计一个算法找到给定数组的多数元素, 分析算法设计思路, 计算算法时间复杂度, 使用python编程实现\n",
    "2. \\* 设计时间复杂度为 O(n)、空间复杂度为 O(1) 的算法解决此问题, 分析算法设计思路, 使用python编程实现\n",
    "\n",
    "e.g.:\n",
    "---\n",
    "1. nums=[3,2,3], 返回3\n",
    "2. nums=[2,2,1,1,1,2,2], 返回2\n"
   ]
  },
  {
   "cell_type": "markdown",
   "metadata": {},
   "source": [
    "idea：\n",
    "将数组直接进行排序，由于多数元素是指数组中出现次数大于`⌊ n/2 ⌋`的元素，因此当排序之后，多数元素一定会出现在数组的最中间，所以排序之后直接输出最中间的数，这个数就是多数元素。排序算法我选择快速排序，平均时间复杂度为$O(nlogn)$。"
   ]
  },
  {
   "cell_type": "code",
   "execution_count": 32,
   "metadata": {},
   "outputs": [
    {
     "name": "stdout",
     "output_type": "stream",
     "text": [
      "nums_A的多数元素为:3\n",
      "nums_B的多数元素为:2\n"
     ]
    }
   ],
   "source": [
    "# add your code here\n",
    "# your algorithm time complexity is :O(nlogn)\n",
    "# 实现快速排序，使用quicksort函数来递归实现快速排序，使用partition函数来选择一个pivot，并将其放到i的位置，并返回下标索引\n",
    "def quicksort(A, low, high):\n",
    "    #当数组长度>1的时候进行分区和递归排序左右部分\n",
    "    if low < high:\n",
    "        pivot_idx = partition(A, low, high)\n",
    "        quicksort(A, low, pivot_idx - 1)\n",
    "        quicksort(A, pivot_idx + 1, high)\n",
    "\n",
    "#选择pivot并返回下标\n",
    "def partition(A, low, high):\n",
    "    pivot = A[high]\n",
    "    i = low\n",
    "    for j in range(low, high):\n",
    "        if A[j] < pivot:\n",
    "            A[i], A[j] = A[j], A[i]\n",
    "            i += 1\n",
    "    A[i], A[high] = A[high], A[i]\n",
    "    return i\n",
    "\n",
    "# 测试用例\n",
    "nums_A=[3,2,3]\n",
    "nums_B=[2,2,1,1,1,2,2]\n",
    "quicksort(nums_A, 0, len(nums_A) - 1)\n",
    "quicksort(nums_B, 0, len(nums_B) - 1)\n",
    "print(f\"nums_A的多数元素为:{nums_A[len(nums_A)//2]}\")\n",
    "print(f\"nums_B的多数元素为:{nums_B[len(nums_B)//2]}\")"
   ]
  },
  {
   "cell_type": "markdown",
   "metadata": {},
   "source": [
    "idea for 2\\*：采用摩尔投票算法，主要思想就是因为多数元素是出现次数大于`⌊ n/2 ⌋`的元素，因此它比其他数出现的总和还要多，可以用记录次数来抵消其他数字的次数。主要做法就是我们首先设置一个计数器，并将第一个数字先当作最多数，然后开始遍历数组，要是出现的数字是当前的数字，那么count+1，如果不是的话，那么就count-1，当count等于0的时候，就取当前的数字重新作为最多的那个数字，然后直到遍历完数组，输出当前最多的那个数，这样只遍历了一次数组，因此时间复杂度是O(n)、空间复杂度为 O(1)。"
   ]
  },
  {
   "cell_type": "code",
   "execution_count": 30,
   "metadata": {},
   "outputs": [
    {
     "name": "stdout",
     "output_type": "stream",
     "text": [
      "nums_A的多数元素为:3\n",
      "nums_B的多数元素为:2\n"
     ]
    }
   ],
   "source": [
    "# algorithm time complexity：O(n), space complexity:O(1)\n",
    "# add your code here\n",
    "#实现摩尔投票算法\n",
    "def majority(nums):\n",
    "    candidate = None\n",
    "    count = 0\n",
    "    \n",
    "    #遍历数组，进行计数\n",
    "    for num in nums:\n",
    "        if count == 0:\n",
    "            candidate = num\n",
    "        if num == candidate:\n",
    "            count = count + 1\n",
    "        else:\n",
    "            count = count - 1\n",
    "        \n",
    "    return candidate\n",
    "\n",
    "# 测试用例   \n",
    "nums_A = [3, 2, 3]\n",
    "nums_B = [2, 2, 1, 1, 1, 2, 2]  \n",
    "print(f\"nums_A的多数元素为:{majority(nums_A)}\")\n",
    "print(f\"nums_B的多数元素为:{majority(nums_B)}\")\n"
   ]
  },
  {
   "cell_type": "markdown",
   "metadata": {},
   "source": [
    "## 问题 7：\n",
    "\n",
    "给定一个包含不同整数元素的数组 $ A[1..n]$ ,并且满足条件：$A[1]>A[2]$ 并且 $A[n-1]<A[n]$; 规定：如果一个元素比它两边的邻居元素都小, 即：$A[x]<A[x-1], A[x]<A[x+1]$ , 称这个元素A[x]为“局部最小”。通过遍历一次数组, 我们可以很容易在 $O(n)$的时间复杂度下找到一个局部最小值, \n",
    "\n",
    "\n",
    "1. 分析该问题, 设计一个算法在$O(logn)$的时间复杂度下找到一个局部最小(返回数值), 要求：分析算法设计思路, 并且使用python编程实现\n",
    "2. \\* 设计算法找出所有局部最小值, 分析算法设计思路, 并使用python编程实现\n",
    "\n",
    "e.g.:\n",
    "---\n",
    "A=[9, 3, 7, 2, 1, 4, 5 ] 时,  局部最小元素为 3, 1\n"
   ]
  },
  {
   "cell_type": "markdown",
   "metadata": {},
   "source": [
    "idea：\n",
    "采用二分法进行查找，首先直接取整个数组最中间的数，如果刚好这个数小于两边的数就直接返回这个数；否则就判断这个数是否大于它左边的数，如果大于左边的数，那么局部最小值在左半部分，再往左边进行查找局部最小值；否则的话局部最小值就应该在右边，往右边进行寻找。"
   ]
  },
  {
   "cell_type": "code",
   "execution_count": 54,
   "metadata": {},
   "outputs": [
    {
     "name": "stdout",
     "output_type": "stream",
     "text": [
      "A=[9, 3, 7, 2, 1, 4, 5]时，一个局部最小元素为:1\n"
     ]
    }
   ],
   "source": [
    "# add your code here\n",
    "# your algorithm time complexity is :O(logn)\n",
    "#采用二分法寻找局部最小值\n",
    "def find_local_minimum(A):\n",
    "    low, high = 0, len(A) - 1\n",
    "    \n",
    "    while low < high:\n",
    "        mid = (low + high) // 2\n",
    "        \n",
    "        # 检查 mid 是否是局部最小值\n",
    "        if A[mid] < A[mid + 1] and A[mid] < A[mid - 1]:\n",
    "            return A[mid]\n",
    "        \n",
    "        # 如果 mid 比左边大，则局部最小值在左边\n",
    "        elif mid > 0 and A[mid] > A[mid - 1]:\n",
    "            high = mid - 1\n",
    "        \n",
    "        # 否则局部最小值在右边\n",
    "        else:\n",
    "            low = mid + 1\n",
    "    \n",
    "    return A[low]  # low == high 时即为局部最小值\n",
    "\n",
    "# 测试用例   \n",
    "A = [9, 3, 7, 2, 1, 4, 5 ]    \n",
    "print(f\"A={A}时，一个局部最小元素为:{find_local_minimum(A)}\")"
   ]
  },
  {
   "cell_type": "markdown",
   "metadata": {},
   "source": [
    "idea for 2\\*:要找出所有的局部最小值，最简单的办法就是使用遍历的思想，从第1位一直遍历到n-1位，直接比较它是否小于它左右两边的数，如果小于的话直接存入一个数组中，最后将这个数组中的数输出即可。由于该算法只需要遍历一次所有的数据，因此时间复杂度为$\\theta(n)$。"
   ]
  },
  {
   "cell_type": "code",
   "execution_count": 34,
   "metadata": {},
   "outputs": [
    {
     "name": "stdout",
     "output_type": "stream",
     "text": [
      "A=[9, 3, 7, 2, 1, 4, 5]时，所有局部最小元素为: [3, 1]\n"
     ]
    }
   ],
   "source": [
    "# add your code here\n",
    "# your algorithm time complexity is : Θ(n)\n",
    "def find_allmin(arr):\n",
    "    n = len(arr)\n",
    "    allmin = []\n",
    "    \n",
    "    # 从 1 一直遍历到 n-1\n",
    "    for i in range(1, n - 1):\n",
    "        if arr[i] < arr[i - 1] and arr[i] < arr[i + 1]:\n",
    "            allmin.append(arr[i])\n",
    "    \n",
    "    return allmin\n",
    "\n",
    "# 测试用例\n",
    "A = [9, 3, 7, 2, 1, 4, 5 ] \n",
    "result = find_allmin(A)\n",
    "print(f\"A={A}时，所有局部最小元素为: {result}\")"
   ]
  },
  {
   "cell_type": "markdown",
   "metadata": {},
   "source": [
    "## 问题 8：\n",
    "\n",
    "给定包含n个不同数字的一组数, 寻找一种基于比较的算法在这组数中找到k个最小的数字, 并按顺序输出它们。\n",
    "\n",
    "1. 将n个数先进行排序, 然后按顺序输出最小的k个数。要求：选择合适的排序算法实现上述操作, 计算算法时间复杂度, 并使用python编程实现。\n",
    "2. 建立一个包含这n个数的堆（heap）, 并且调用 k 次Extract-min 按顺序输出最小的k个数。使用往空堆中不断插入元素的方法建立堆, 分析这种方法建堆的时间复杂度, 并使用python编程实现\n",
    "3. \\* 假设数组中包含的数据总数目超过了计算机的存储能力, 请设计一个算法, 找到这堆数据的前k小的数值, 计算时间复杂度, 并使用python实现该算法, 假设计算机一定能存储k个数据。\n",
    "\n",
    "e.g.：\n",
    "---\n",
    "数组arr=[5,4,3,2,6,1,88,33,22,107] 的前3个最小数据为：1, 2, 3\n"
   ]
  },
  {
   "cell_type": "markdown",
   "metadata": {},
   "source": [
    "idea：\n",
    "1. 首先使用快速排序的方法进行排序，排序完之后直接使用切片输出前k个最小的，快速排序的时间复杂度为$O(nlogn)$，取前k个最小的数的时间复杂度为$O(k)$，因此总的时间复杂度为$O(nlogn)$。\n",
    "2. 由于数组是给定的，因此可以通过调用heapify来建立一个最小堆，然后设计一个函数Extract-min用来输出堆顶元素，最后设计一个循环来控制输出的个数k。这样的话，调用函数建堆的时间复杂度为$\\theta(n)$，然后取出前k个元素的时间复杂度为$theta(klogn)$，因此总的时间复杂度为$theta(n+klogn)$\n",
    "3. 当数据量太大无法全部存储时，我们可以动态维护一个大小为$k$的最大堆，这个堆里面存储着当前最小的$k$个数，当进来的新数据比堆顶小，我们就替换堆顶并内部调整堆，当进来的新数据比堆顶大，那么继续读取下一个数。这样的话建堆的时间复杂度为$\\theta(k)$，然后我们在处理剩下的$n-k$个数据时，每次比较的时间复杂度为$O(1)$，最坏调整堆的时间复杂度为$\\theta(logk)$，因此处理的总时间复杂度为$\\theta((n - k) log k)$。这样的话这个算法的总时间复杂度为$\\theta(nlogk)$"
   ]
  },
  {
   "cell_type": "code",
   "execution_count": 51,
   "metadata": {
    "tags": []
   },
   "outputs": [
    {
     "name": "stdout",
     "output_type": "stream",
     "text": [
      "数组arr的前3个最小数据为：[1, 2, 3]\n"
     ]
    }
   ],
   "source": [
    "#1\n",
    "# add your code here\n",
    "# your algorithm time complexity is :O(nlogn)\n",
    "# 实现快速排序，使用quicksort函数来递归实现快速排序，使用partition函数来选择一个pivot，并将其放到i的位置，并返回下标索引\n",
    "#当数组长度>1的时候进行分区和递归排序左右部分\n",
    "def quicksort(A, low, high):\n",
    "    if low < high:\n",
    "        pivot_idx = partition(A, low, high)\n",
    "        quicksort(A, low, pivot_idx - 1)\n",
    "        quicksort(A, pivot_idx + 1, high)\n",
    "        \n",
    "#选择pivot并返回下标\n",
    "def partition(A, low, high):\n",
    "    pivot = A[high]\n",
    "    i = low\n",
    "    for j in range(low, high):\n",
    "        if A[j] < pivot:\n",
    "            A[i], A[j] = A[j], A[i]\n",
    "            i += 1\n",
    "    A[i], A[high] = A[high], A[i]\n",
    "    return i\n",
    "   \n",
    "# 测试用例   \n",
    "arr = [5, 4, 3, 2, 6, 1, 88, 33, 22, 107]   \n",
    "k = 3  \n",
    "quicksort(arr, 0, len(arr) - 1)   \n",
    "print(f\"数组arr的前{k}个最小数据为：{arr[:k]}\")"
   ]
  },
  {
   "cell_type": "code",
   "execution_count": 52,
   "metadata": {},
   "outputs": [
    {
     "name": "stdout",
     "output_type": "stream",
     "text": [
      "数组arr的前3个最小数据为：[1, 2, 3]\n"
     ]
    }
   ],
   "source": [
    "#2\n",
    "# add your code here\n",
    "# your algorithm time complexity is :Θ(n+klogn)\n",
    "\n",
    "import heapq\n",
    "#取出堆顶即这个堆的最小值并调整堆\n",
    "def Extract_min(heap):\n",
    "    #检查堆是否为空\n",
    "    if not heap:   \n",
    "        return None\n",
    "    return heapq.heappop(heap)\n",
    "\n",
    "#找出前k个最小的元素\n",
    "def find_ksmall(arr, k):\n",
    "    heapq.heapify(arr)  # 建堆\n",
    "    result = []\n",
    "    for _ in range(k):  # 调用 k 次 Extract-min\n",
    "        result.append(Extract_min(arr))\n",
    "    return result\n",
    "   \n",
    "# 测试用例   \n",
    "arr = [5, 4, 3, 2, 6, 1, 88, 33, 22, 107]   \n",
    "k = 3  \n",
    "print(f\"数组arr的前{k}个最小数据为：{find_ksmall(arr, k)}\")"
   ]
  },
  {
   "cell_type": "code",
   "execution_count": 53,
   "metadata": {},
   "outputs": [
    {
     "name": "stdout",
     "output_type": "stream",
     "text": [
      "数组arr的前3个最小数据为：[1, 2, 3]\n"
     ]
    }
   ],
   "source": [
    "#3\n",
    "# add your code here\n",
    "# your algorithm time complexity is :Θ(nlogk)\n",
    "import heapq\n",
    "#找到前 k 个最小的\n",
    "def find_ksmall_large(data, k):\n",
    "    max_heap = []\n",
    "    for num in data:\n",
    "        #如果最大堆的数不够\n",
    "        if len(max_heap) < k:\n",
    "            # 使用负数构造最大堆\n",
    "            heapq.heappush(max_heap, -num)  \n",
    "        else:\n",
    "            # 比堆顶小\n",
    "            if -num > max_heap[0]:  \n",
    "                heapq.heappop(max_heap)\n",
    "                heapq.heappush(max_heap, -num)\n",
    "    return sorted([-x for x in max_heap])  # 返回升序\n",
    "   \n",
    "# 测试用例   \n",
    "arr = [5, 4, 3, 2, 6, 1, 88, 33, 22, 107]   \n",
    "k = 3  \n",
    "print(f\"数组arr的前{k}个最小数据为：{find_ksmall_large(arr, k)}\")"
   ]
  },
  {
   "cell_type": "markdown",
   "metadata": {},
   "source": [
    "## 问题 9：\n",
    "\n",
    "**选择问题**:给定一个包含n个未排序值的数组A和一个$k≤n$的整数, 返回A中最小的第k项。\n",
    "\n",
    "在课堂上, 学了一个简单的O(n)随机算法来解决选择问题。事实上还有一种更复杂的最坏情况下时间复杂度为$O(n)$ 的选择算法。假设使用一个黑盒过程来实现这个O(n)选择算法: 给定一个数组A、 $p < r$ 和 k,  $BB(A, p, r, k)$ 可以在$O(r−p+ 1)$时间内找到并报告$A[p..r]$中第k小的项的下标。假设你可以在线性时间内处理Partition过程。\n",
    "\n",
    "1. 请分析如何修改 Quicksork 算法可以使其最差情况下的运行时间为 $O(nlogn)$, 使用伪代码实现, 并分析为何修改后的版本最差情况的运行时间为$O(nlogn)$\n",
    "\n",
    "note: 伪代码中, 你可以直接调用用` BB(A,p,r,k)`这个函数用于表示在最坏情况下时间复杂度为$O(n)$的选择算法；\n",
    "\n",
    "\n",
    "\n",
    "2. 找到一个更好的算法报告数组A中的前k小的项, 使用伪代码表示你的算法, 并分析你算法的时间复杂度。\n",
    "\n",
    "举例：A=[13, 3, 7, 9, 11, 1, 15, 2, 8, 10, 12, 16, 14, 5], 当k=4时, 应该报告1, 2, 3, 4\n",
    "\n",
    "note： 最直观的方法就是先将数组A排序, 然后从左向右报告其前k项, 这样操作的时间复杂度为$O(nlogn)$. 调用用` BB(A,p,r,k)`设计一个算法使其报告无序数组A的前k项, 满足时间复杂度好于$\\Theta(nlogn)$, 并且当$k=\\sqrt{n}$时, 你设计的算法时间复杂度应该为$\\Theta(n)$.\n",
    "\n",
    "\n",
    "\n",
    "3. 给定一个大小为n的数组, 找到一个 时间复杂度为$O(n log k)$ 的算法, 该算法将A中的元素重新排序, 使它们被划分为k个部分, 每个部分的元素小于或等于下一部分的元素。假设n和k都是2的幂。使用伪代码表示你的算法, 并分析时间复杂度。\n",
    "\n",
    "e.g.:\n",
    "---\n",
    "数组：[1,  3,  5,  7,  9,  11,  13,  15,  2,  4,  6,  8,  10,  12,  16,  14], k=4, \n",
    "\n",
    "对应重新排序的数组为：[1,  3,  2,  4]  [7,  6,  5,  8]  [12,  11,  10,  9]  [13,  14,  16,  15]\n",
    "\n",
    "\n"
   ]
  },
  {
   "cell_type": "markdown",
   "metadata": {},
   "source": [
    "idea：\n",
    "1. 因为每次划分可能极度不平衡，传统的Quicksort在最坏情况下时间复杂度为$O(n^2)$ ，而通过使用$BB(A, p, r, k)$ 在$O(r−p+ 1)$时间内找到并报告$A[p..r]$中第k小的项的下标选择中位数作为pivot，可以保证每次划分后两部分大小均衡。当我们选择中位数时的时间复杂度为$O(n)$，划分时间的时间复杂度为$O(n)$，因此每次划分总时间复杂度为$O(n)$。而每次划分后两部分大小近似为$n/2$，深度为$O(logn)$，因此这个算法的总时间复杂度为$O(n) × O(logn) = O(nlogn)$。\n",
    "2. 首先我们使用BB算法在$O(n)$内找到第k小的数，然后我们遍历数组找到≤这个第k小的数，最后利用排序算法将这部分数进行排序。调用BB算法的时间复杂度为$O(n)$，然后进行遍历筛选的时间复杂度也为$O(n)$，而我们排序算法可以选择快速排序，因为只对k个数进行排序因此在这里的时间复杂度就为$O(klogk)$，所以总的时间复杂度就为$O(n)+O(n)+O(klogk)=2O(n)+O(klogk)$，当$k=\\sqrt{n}$时，总的时间复杂度就为$O(n)$，并且不会超出$O(n)$，满足时间复杂度为$\\Theta(n)$。\n",
    "3. 要使时间复杂度达到$O(nlogk)$，可以使用分块并且多路分块。我们将这个数组进行分块成三个部分，一个为小于pivot，一个为等于pivot，最后是大于pivot的部分。然后进行再对小于和大于pivot的部分递归处理，继续划分剩余的 k-1 部分，直到k=1截至。我们选择调用BB算法的时间复杂度为$O(n)$，三路划分的时间复杂度也为$O(n)$，因此每层的进行递归的时间复杂度为$O(n)$。而递归每次将k减半，递归的深度为$O(logk)$，因此总的时间复杂度为$O(n) * O(logk) = O(nlogk)$。"
   ]
  },
  {
   "cell_type": "code",
   "execution_count": null,
   "metadata": {},
   "outputs": [],
   "source": [
    "#1\n",
    "# add your code here\n",
    "# your algorithm time complexity is : O(nlogn)\n",
    "Modified-Quicksort(A, p, r):\n",
    "    if p < r:\n",
    "        # 使用BB选择中位数作为 pivot\n",
    "        med <- BB(A, p, r, (r - p + 1) // 2)\n",
    "        swap(A[med], A[r])  # 将中位数放到末尾作为pivot\n",
    "        q <- Partition(A, p, r)     # 划分\n",
    "        Modified-Quicksort(A, p, q - 1)\n",
    "        Modified-Quicksort(A, q + 1, r)"
   ]
  },
  {
   "cell_type": "code",
   "execution_count": null,
   "metadata": {},
   "outputs": [],
   "source": [
    "#2\n",
    "# add your code here\n",
    "# your algorithm time complexity is :Θ(n)\n",
    "KSmall(A, k):\n",
    "    if k == 0:\n",
    "        return []\n",
    "    # 找到第k小的元素\n",
    "    kth_index <- BB(A, 0, len(A) - 1, k)\n",
    "    kth <- A[kth_index]\n",
    "    # 收集所有≤kth的元素\n",
    "    result = []\n",
    "    for x in A:\n",
    "        if x ≤ kth_val:\n",
    "            result <- x\n",
    "    # 对result排序\n",
    "    sort(result)\n",
    "    return result"
   ]
  },
  {
   "cell_type": "code",
   "execution_count": null,
   "metadata": {},
   "outputs": [],
   "source": [
    "#3\n",
    "# add your code here\n",
    "# your algorithm time complexity is :O(nlogk)\n",
    "#将数组划分为 k 个部分，每部分的数≤下一部分的数\n",
    "KSmall(A, k):\n",
    "    #等于1直接返回，递归结束\n",
    "    if k == 1:\n",
    "        return [A]\n",
    "    \n",
    "    # 使用分治策略：将 k 减半\n",
    "    split_index <- len(A) // 2\n",
    "    pivot_index <- BB(A, 0, len(A)-1, split_index)\n",
    "    pivot <- A[pivot_index]\n",
    "    \n",
    "    # 划分成三路\n",
    "    left, mid, right <- [], [], []\n",
    "    for x in A:\n",
    "        if x < pivot:\n",
    "            left.append(x)\n",
    "        elif x == pivot:\n",
    "            mid.append(x)\n",
    "        else:\n",
    "            right.append(x)\n",
    "    \n",
    "    # 递归处理左右两部分\n",
    "    left_part <- KSmall(left + mid, k // 2)\n",
    "    right_part <- KSmall(right, k - k // 2)\n",
    "    \n",
    "    return left_part + right_part"
   ]
  },
  {
   "cell_type": "markdown",
   "metadata": {},
   "source": [
    "## 问题 10：\n",
    "\n",
    "给定一个包含m个**字符串**的数组A, 其中不同的字符串可能有不同的字符数, 但数组中所有字符串的字符总数为n。设计一个算法在 $O(n)$ 时间内对字符串进行排序, 分析算法设计方案, 计算其时间复杂度, 并基于python编程实现该算法。请注意, 假设字符串只包含\"a\",\"b\",...,\"z\", \n",
    "\n",
    "\n",
    "\n",
    "举例1：数组A=[\"a\", \"da\", \"bde\", \"ab\", \"bc\", \"abdc\", \"cdba\"], 排序后的数组应该为：['a', 'ab', 'abdc', 'bc', 'bde', 'cdba', 'da']\n",
    "\n",
    "\n",
    "\n",
    "举例2：数组A=['ab', 'a', 'b', 'abc', 'ba', 'c'], 排序后的数组应该为：\n",
    "\n",
    "['a', 'ab', 'abc', 'b', 'ba', 'c']\n",
    "\n",
    "\n",
    "\n",
    "举例3：数组A=['aef', 'yzr', 'wr', 'ab', 'bhjc', 'lkabdc', 'pwcdba'],  排序后的数组应该为：['ab', 'aef', 'bhjc', 'lkabdc', 'pwcdba', 'wr', 'yzr']\n",
    "\n",
    "\n",
    "\n",
    "note：\n",
    "\n",
    "-  两个字符之间的比较可以考虑比较他们对应的ASCII码值；\n",
    "- python中可以使用`ord(\"a\")`返回字符 “a”对应的ASCII值"
   ]
  },
  {
   "cell_type": "markdown",
   "metadata": {},
   "source": [
    "idea:首先因为要设计时间复杂度为$O(n)$的排序算法，而又是对字符串进行排序，因此想到了使用基数排序。使用这个算法的主要思路就是首先按照第一位字母将所有的相同字母分配到一个桶中，然后对于每一个桶，再分别递归处理子桶来进行比较，最后将所有的结果合并在一起。首先因为要遍历所有字符串因此对每组进行分组的时间复杂度是$O(n)$，而递归处理子桶时，递归的深度最多为最长的字符串长度max_len\n",
    "，因此总的时间复杂度为$O(n×max_len)$，因此为$O(n)$，满足题意。"
   ]
  },
  {
   "cell_type": "code",
   "execution_count": 50,
   "metadata": {},
   "outputs": [
    {
     "name": "stdout",
     "output_type": "stream",
     "text": [
      "数组A1排序后的数组应该为：['a', 'ab', 'abdc', 'bc', 'bde', 'cdba', 'da']\n",
      "数组A2排序后的数组应该为：['a', 'ab', 'abc', 'b', 'ba', 'c']\n",
      "数组A3排序后的数组应该为：['ab', 'aef', 'bhjc', 'lkabdc', 'pwcdba', 'wr', 'yzr']\n"
     ]
    }
   ],
   "source": [
    "# add your code here\n",
    "# your algorithm time complexity is :O(n)\n",
    "#使用基数排序进行排序，最高位优先排序\n",
    "def radixsort(strings):\n",
    "    # 空列表直接返回\n",
    "    if not strings:\n",
    "        return []\n",
    "    \n",
    "    # 计算所有字符串的最大长度\n",
    "    max_len = max(len(s) for s in strings)\n",
    "    \n",
    "    #递归辅助对字符串数组按当前字符分组并排序\n",
    "    def sort_helper(arr, position):\n",
    "        # 终止条件：超出最大长度或子数组长度为1\n",
    "        if position >= max_len or len(arr) <= 1:\n",
    "            return arr\n",
    "    \n",
    "        # 分组：按当前字符分组（空字符视为最小）\n",
    "        groups = [[] for _ in range(27)]  # 0: 空字符，1-26: a-z\n",
    "        for s in arr:\n",
    "            if position < len(s):\n",
    "                char = s[position]\n",
    "                idx = ord(char) - ord('a') + 1  # a->1, b->2, ..., z->26\n",
    "            else:\n",
    "                idx = 0  # 当字符串长度不够时为空字符\n",
    "            groups[idx].append(s) # 将字符串放入对应分组\n",
    "        \n",
    "        # 递归排序各组\n",
    "        sorted_arr = []\n",
    "        for group in groups:\n",
    "            if group:\n",
    "                sorted_arr += sort_helper(group, position + 1)\n",
    "        \n",
    "        return sorted_arr\n",
    "    \n",
    "    return sort_helper(strings, 0)\n",
    "   \n",
    "# 测试   \n",
    "A1 = [\"a\", \"da\", \"bde\", \"ab\", \"bc\", \"abdc\", \"cdba\"]   \n",
    "print(f\"数组A1排序后的数组应该为：{radixsort(A1)}\") \n",
    "   \n",
    "A2 = ['ab', 'a', 'b', 'abc', 'ba', 'c']   \n",
    "print(f\"数组A2排序后的数组应该为：{radixsort(A2)}\") \n",
    "   \n",
    "A3 = ['aef', 'yzr', 'wr', 'ab', 'bhjc', 'lkabdc', 'pwcdba']   \n",
    "print(f\"数组A3排序后的数组应该为：{radixsort(A3)}\") \n"
   ]
  }
 ],
 "metadata": {
  "kernelspec": {
   "display_name": "Python 3",
   "language": "python",
   "name": "python3"
  },
  "language_info": {
   "codemirror_mode": {
    "name": "ipython",
    "version": 3
   },
   "file_extension": ".py",
   "mimetype": "text/x-python",
   "name": "python",
   "nbconvert_exporter": "python",
   "pygments_lexer": "ipython3",
   "version": "3.8.8"
  }
 },
 "nbformat": 4,
 "nbformat_minor": 4
}
