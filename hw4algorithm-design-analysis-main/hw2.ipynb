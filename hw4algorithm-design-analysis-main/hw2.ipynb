{
 "cells": [
  {
   "cell_type": "markdown",
   "metadata": {},
   "source": [
    "## algorithm design and anlysis-2025 spring  homework 2\n",
    "**Deadline**：2025.5.14\n",
    "\n",
    "**name**:王姗姗\n",
    "\n",
    "\n",
    "note：\n",
    "---\n",
    "1. 带有\\*的题目，申请免上课的同学，必须完成，其他同学选作；\n",
    "2. 请独立完成，如求助了他人或者大模型，请著明，并且不可省略算法分析部分；\n",
    "4. 如若作答有雷同，全部取消成绩；\n",
    "3. 需要书面作答的题目，可以通过引用图片的形式添加，但是注意上传项目时包含所引用的图片的源文件；\n",
    "4. $log_n$ 默认表示$log_2{n}$;"
   ]
  },
  {
   "cell_type": "markdown",
   "metadata": {},
   "source": [
    "## 问题 1  \n",
    "\n",
    "> 给定一个已排序的链表的头 `head` ， *删除所有重复的元素，使每个元素只出现一次* 。返回 *已排序的链表* 。链表的类如下所示：\n",
    "\n",
    "```python\n",
    "class NodeList:\n",
    "    def __init__(self, val=None, right=None):\n",
    "        self.val   = val\n",
    "        self.right = right\n",
    "```\n",
    "\n",
    "输入是一个数组，你首先需要将数组转化为链表，然后删除链表中的重复元素，再遍历链表元素，以一个数组的形式返回。请设计一个算法解决上述任务，分析算法设计思路，计算时间复杂度, 并基于python编程实现。\n",
    "\n",
    "e.g.  输入：head=[1, 1, 2, 3, 3]   输出：[1, 2, 3]\n",
    "\n",
    "![image-20240502110020439](./fig/hw2q1.png)\n",
    "\n"
   ]
  },
  {
   "cell_type": "markdown",
   "metadata": {
    "tags": []
   },
   "source": [
    "idea：解决这个问题可以分为三个步骤，第一步先使用给出的数组构造成链表。然后删除重复的值使用遍历来进行删除，由于给的是已排序的链表，所以重复的数一定是挨在一起的，所以直接比较这个节点的值和下一个节点的值，若是相同的话则跳过这个节点，直接连向下一节点，若是不同的话则当前的节点指针进行移动。最后将链表转换成数组时，直接遍历链表的数值然后存入一个新的数组。在这个算法中，构建链表需要遍历一次数组，时间复杂度为$\\Theta(n)$，在删除重复数的时候时间时间复杂度也为$\\Theta(n)$，最后遍历链表转换成数组时也为$\\Theta(n)$，因此总的时间复杂度为$\\Theta(n)$。"
   ]
  },
  {
   "cell_type": "code",
   "execution_count": 1,
   "metadata": {},
   "outputs": [
    {
     "name": "stdout",
     "output_type": "stream",
     "text": [
      "最终的输出数组为：[1, 2, 3]\n"
     ]
    }
   ],
   "source": [
    "# add your idea here\n",
    "# your algorithm time complexity is:Θ(n)\n",
    "#链表定义\n",
    "class NodeList:\n",
    "    def __init__(self, val=None, right=None):\n",
    "        self.val = val\n",
    "        self.right = right\n",
    "        \n",
    "# 将数组转换为链表        \n",
    "def array_to_linked(arr):\n",
    "     # 如果输入数组为空，返回空链表\n",
    "    if not arr:\n",
    "        return None\n",
    "    # 创建链表的头节点\n",
    "    head = NodeList(arr[0])\n",
    "    current = head\n",
    "    # 遍历数组中剩余的元素，逐个添加到链表\n",
    "    for val in arr[1:]:\n",
    "        current.right = NodeList(val)\n",
    "        current = current.right\n",
    "    return head\n",
    "\n",
    "# 删除链表中的重复元素   \n",
    "def delete(head):\n",
    "    # 如果链表为空，直接返回\n",
    "    if not head:\n",
    "        return None\n",
    "    current = head\n",
    "    # 只要当前节点还有下一个节点就继续循环\n",
    "    while current.right:\n",
    "        # 跳过重复节点\n",
    "        if current.val == current.right.val:\n",
    "            current.right = current.right.right \n",
    "        # 移动当前指针\n",
    "        else:\n",
    "            current = current.right  \n",
    "    return head\n",
    "\n",
    "# 将链表转换回数组      \n",
    "def linked_to_array(head):\n",
    "    arr = []\n",
    "    current = head\n",
    "    while current:\n",
    "        arr.append(current.val)\n",
    "        current = current.right\n",
    "    return arr\n",
    "   \n",
    "def remove_duplicates_from_sorted_list(input_arr):\n",
    "    head = array_to_linked(input_arr)\n",
    "    head = delete(head)\n",
    "    return linked_to_array(head)\n",
    "   \n",
    "# 测试用例   \n",
    "arr = [1, 1, 2, 3, 3]   \n",
    "linked = array_to_linked(arr)\n",
    "deleted_arr = delete(linked)\n",
    "final_arr = linked_to_array(deleted_arr) \n",
    "print(f\"最终的输出数组为：{final_arr}\") \n"
   ]
  },
  {
   "cell_type": "markdown",
   "metadata": {},
   "source": [
    "## 问题 2  \n",
    "\n",
    "> 下面是一个经典的算法问题：\n",
    ">\n",
    "> - 给定包含n个整数的一个整数数组 `nums` 和一个整数目标值 `target`，请你在该数组中找出 **和为目标值** *`target`* 的那 **两个** 整数，并返回它们的**数组下标**。假设每种输入只会对应一个答案。但是，数组中同一个元素在答案里不能重复出现。你可以按任意顺序返回答案。\n",
    ">\n",
    "> 由于要多次查找数组中元素的位置，为了提高查询效率可以使用哈希表来存储数组中的数据，在哈希表中查询一个元素的复杂度为O(1)。 已知python中的字典是使用哈希表实现的，即使用`dict[key]`查询对应的value时间复杂度为O(1), python提供了查询字典是否包含某个key的功能：`key in dict`，时间复杂度也是O(1)\n",
    "\n",
    "请根据上面信息，设计一个时间复杂度为O(n) 的算法，解决上述算法问题\n",
    "\n",
    "e.g.   \n",
    "\n",
    "输入：nums=[2,7,11,15], target=9， 输出：[0，1]\n",
    "\n",
    "输入：nums=[3,2,4], target=6, 输出：[1,2]\n",
    "\n",
    "输入：nums=[3,3], target=6,  输出：[0,1]\n"
   ]
  },
  {
   "cell_type": "markdown",
   "metadata": {
    "tags": []
   },
   "source": [
    "idea：首先我们使用哈希表来存储已经遍历过的数字及其下标。然后对于当前遍历的数字，计算其补数是否在哈希表中，如果补数已经在哈希表中，说明找到了两个数的和等于目标值，直接返回它们的下标；如果补数不在哈希表中，则将当前数字存入哈希表，方便后续进行匹配。由于我们计算补数、查询补数是否在哈希表中、以及存储当前数字到哈希表中的时间复杂度都是$O(1)$，而遍历数组最多进行n次，因此总的时间复杂度为$O(1) × O(n) = O(n)$"
   ]
  },
  {
   "cell_type": "code",
   "execution_count": 4,
   "metadata": {},
   "outputs": [
    {
     "name": "stdout",
     "output_type": "stream",
     "text": [
      "[2, 7, 11, 15]中和为9的两个下标为：[0, 1]\n",
      "[3, 2, 4]中和为6的两个下标为：[1, 2]\n",
      "[3, 3]中和为6的两个下标为：[0, 1]\n"
     ]
    }
   ],
   "source": [
    "# add your idea here\n",
    "# your algorithm time complexity is: O(n)\n",
    "#按照题目中所给的思路设计的算法\n",
    "def sum(nums, target):\n",
    "    # 创建哈希表进行存储\n",
    "    num_dict = {}\n",
    "    for i, num in enumerate(nums):\n",
    "        # 计算需要的补数\n",
    "        complement = target - num\n",
    "        # 检查补数是否在哈希表中\n",
    "        if complement in num_dict:\n",
    "            # 返回当前下标和补数的下标\n",
    "            return [num_dict[complement], i]\n",
    "        # 如果补数不存在将当前数值存入哈希表\n",
    "        num_dict[num] = i\n",
    "    # 如果没有解，返回空\n",
    "    return []\n",
    "   \n",
    "# 测试用例\n",
    "nums1 = [2,7,11,15]\n",
    "target1 = 9\n",
    "nums2 = [3,2,4]\n",
    "target2 = 6\n",
    "nums3 = [3,3]\n",
    "target3 = 6\n",
    "print(f\"{nums1}中和为{target1}的两个下标为：{sum(nums1,target1)}\")  \n",
    "print(f\"{nums2}中和为{target2}的两个下标为：{sum(nums2,target2)}\")      \n",
    "print(f\"{nums3}中和为{target3}的两个下标为：{sum(nums3,target3)}\")     "
   ]
  },
  {
   "cell_type": "markdown",
   "metadata": {},
   "source": [
    "## 问题 3:   \n",
    "\n",
    "> 栈是一种常用的数据结构，编译器中通常使用栈来实现表达式求值。\n",
    ">\n",
    "> 以表达式 $3+5 \\times 8-6$​ 为例。编译器使用两个栈来完成运算，即一个栈保持操作数，另一个栈保存运算符。\n",
    ">\n",
    "> 1. 从左向右遍历表达式，遇到数字就压入操作数栈；\n",
    ">\n",
    "> 2. 遇到运算符，就与运算符栈的栈顶元素进行比较。如果比运算符栈顶元素的优先级高，就将当前运算符压入栈；如果比运算符栈顶元素的优先级低或者相同，从运算符栈中取栈顶运算符，从操作数栈的栈顶取 2 个操作数，然后进行计算，再把计算完的结果压入操作数栈，继续比较。\n",
    ">\n",
    "> 下图是 $3+5 \\times 8-6$  这个表达式的计算过程：\n",
    "\n",
    "![figure](./fig/hw2q3.png)\n",
    "\n",
    "根据上述原理，请设计一个算法完成表达式的运算，当输入为表达式字符串，返回对应的计算结果。分析算法设计思路，计算时间复杂度，并基于python编程实现\n",
    "\n",
    "**note：**\n",
    "\n",
    "1. 假设输入的表达式只会出现加（“+”），减 “-”， 乘“*”，除 “/” 四个运算符, 表达式中只会出现正整数\n",
    "2. python中` str.isdigit()`函数可以判断字符串str是否为数字，\n",
    "\n",
    "\n",
    "\n",
    "e.g. :\n",
    "---\n",
    "\n",
    "1. 输入：“$3+5 * 8 -6$”   输出：37\n",
    "\n",
    "2. 输入：“$34+13*9 + 44-12/3$”  输出：191"
   ]
  },
  {
   "cell_type": "markdown",
   "metadata": {
    "tags": []
   },
   "source": [
    "idea：\n",
    "1. 首先初始化两个栈，一个操作数栈用于存储数字，一个运算符栈用于存储运算符。\n",
    "2. 然后遍历表达式字符串，如果遇到数字，通过连续读取数字字符并转换为整数，压入操作数栈；如果遇到运算符，比较当前运算符与运算符栈顶运算符的优先级：如果当前运算符优先级高于栈顶运算符，将当前运算符压入运算符栈。如果当前运算符优先级低于或等于栈顶运算符，从操作数栈中弹出两个操作数并从运算符栈中弹出一个运算符，进行相应的运算，并将结果压入操作数栈。然后再次比较当前运算符与新的栈顶运算符的优先级直到当前运算符优先级高于栈顶运算符或者运算符栈为空，再将当前运算符压入运算符栈。\n",
    "3. 遍历结束后，依次从运算符栈中弹出运算符，从操作数栈中弹出两个操作数，进行运算，并将结果压入操作数栈直到运算符栈为空。\n",
    "4. 最终操作数栈中剩下的数就是表达式的计算结果。\n",
    "5. 由于算法只会遍历一次字符串，而对每个字符进行的操作都是常数操作，因此本算法的时间复杂度为$\\Theta(n)$。"
   ]
  },
  {
   "cell_type": "code",
   "execution_count": 5,
   "metadata": {},
   "outputs": [
    {
     "name": "stdout",
     "output_type": "stream",
     "text": [
      "3+5*8-6的计算结果为：37\n",
      "34+13*9+44-12/3的计算结果为：191\n"
     ]
    }
   ],
   "source": [
    "# add your idea here\n",
    "# your algorithm time complexity is: Θ（n）\n",
    "def evaluate(expr: str) -> int:\n",
    "    # 定义运算符优先级字典\n",
    "    def precedence(op):\n",
    "        return {'+':1, '-':1, '*':2, '/':2}.get(op, 0)\n",
    "    \n",
    "    # 定义运算函数\n",
    "    def apply_op(a, b, op):\n",
    "        return {'+':a+b, '-':a-b, '*':a*b, '/':a//b}[op]\n",
    "\n",
    "    # 初始化数字栈和运算符栈\n",
    "    num_stack = []  \n",
    "    op_stack = []   \n",
    "    i = 0          \n",
    "    n = len(expr)  \n",
    "    \n",
    "    # 主循环：遍历表达式\n",
    "    while i < n:\n",
    "        # 跳过空格\n",
    "        if expr[i] == ' ':\n",
    "            i += 1\n",
    "            continue\n",
    "            \n",
    "        # 处理数字（多位数字的情况）\n",
    "        if expr[i].isdigit():\n",
    "            num = 0\n",
    "            # 连续读取数字字符并转换为整数\n",
    "            while i < n and expr[i].isdigit():\n",
    "                num = num * 10 + int(expr[i])\n",
    "                i += 1\n",
    "            num_stack.append(num)  # 数字压入数字栈\n",
    "            continue  # 跳过后续处理\n",
    "            \n",
    "        # 处理运算符\n",
    "        # 当运算符栈不为空且栈顶运算符优先级≥当前运算符时\n",
    "        while (op_stack and precedence(op_stack[-1]) >= precedence(expr[i])):\n",
    "            # 弹出两个操作数和一个运算符进行运算\n",
    "            b = num_stack.pop() \n",
    "            a = num_stack.pop()  \n",
    "            op = op_stack.pop()  \n",
    "            # 将运算结果压回数字栈\n",
    "            num_stack.append(apply_op(a, b, op))\n",
    "        \n",
    "        # 当前运算符压入运算符栈\n",
    "        op_stack.append(expr[i])\n",
    "        i += 1  # 移动指针\n",
    "    \n",
    "    # 处理栈中剩余的运算符\n",
    "    while op_stack:\n",
    "        b = num_stack.pop()\n",
    "        a = num_stack.pop()\n",
    "        op = op_stack.pop()\n",
    "        num_stack.append(apply_op(a, b, op))\n",
    "    \n",
    "    # 返回最终结果,如果栈为空返回0\n",
    "    return num_stack[0] if num_stack else 0\n",
    "\n",
    "   \n",
    "# 测试用例   \n",
    "str1 = \"3+5*8-6\" \n",
    "str2 = \"34+13*9+44-12/3\"\n",
    "print(f\"{str1}的计算结果为：{evaluate(str1)}\")\n",
    "print(f\"{str2}的计算结果为：{evaluate(str2)}\")   \n"
   ]
  },
  {
   "cell_type": "markdown",
   "metadata": {},
   "source": [
    "## 问题 4:  \n",
    "\n",
    "> 星球碰撞问题：现有n个星球，在同一条直线上运行，如数组A所示，元素的绝对值表示星球的质量，负数表示星球自右向左运动，正数表示星球自左向右运动，当两个星球相撞的时候，质量小的会消失，大的保持不变，**质量相同的两个星球碰撞后自右向左运动的星球消失，自左向右的星球保持不变**，假设所有星球的速度大小相同。\n",
    ">\n",
    "> $ A=[23,-8, 9, -3, -7, 9, -23, 22] $\n",
    "\n",
    "请设计一个算法模拟星球的运行情况，输出最终的星球存续情况（输出一个数组），分析算法设计思路，计算时间复杂度，并基于python编程实现。\n",
    "\n",
    "e.g.\n",
    "---\n",
    "1.  输入： A=[-3,-6,2,8, 5,-8,9,-2,1]， 输出：[-3, -6, 2, 8, 9, 1]\n",
    "\n",
    "2. 输入：A=[23,-8, 9, -3, -7, 9, -23, 22], 输出：[23, 22]\n",
    "\n"
   ]
  },
  {
   "cell_type": "markdown",
   "metadata": {
    "tags": []
   },
   "source": [
    "idea：我们使用栈来模拟碰撞过程，通过遍历数组来逐个处理星球。如果是正数的话直接入栈，因为它向右移动，暂时不会碰撞。而如果是负数的话，如果栈顶为小于该负数绝对值的正数，弹出栈顶元素，正数被摧毁了；如果栈顶大于或等于该负数绝对值的正数则不进行入栈相当于被摧毁了，直到栈为空或者栈顶元素不满足前面弹出条件。依据上述规则遍历所有元素， 最后弹出所有栈内元素，并反转顺序。而由于每个元素最多进栈一次，出栈一次且只有一次循环，因此时间复杂度为$\\Theta(n)$\n"
   ]
  },
  {
   "cell_type": "code",
   "execution_count": 3,
   "metadata": {},
   "outputs": [
    {
     "name": "stdout",
     "output_type": "stream",
     "text": [
      "[-3, -6, 2, 8, 5, -8, 9, -2, 1]的计算结果为：[-3, -6, 2, 8, 9, 1]\n",
      "[23, -8, 9, -3, -7, 9, -23, 22]的计算结果为：[23, 22]\n"
     ]
    }
   ],
   "source": [
    "# add your idea here\n",
    "# your algorithm time complexity is: Θ(n)\n",
    "def starCrush(arr):\n",
    "    stack = []\n",
    "    for star in arr:\n",
    "        #正数直接入栈\n",
    "        if star > 0:\n",
    "            stack.append(star)\n",
    "        else:\n",
    "            # 当前是负数，检查是否能摧毁前面的正数\n",
    "            while stack and stack[-1] > 0 and stack[-1] < abs(star):\n",
    "                stack.pop()  # 较小的正数被摧毁\n",
    "            \n",
    "            if stack and stack[-1] > 0:\n",
    "                # 相等质量：负数被摧毁，正数保留，因此只需要pop负数，正数已经在栈中\n",
    "                if stack[-1] == abs(star):\n",
    "                    continue  # 实际上负数不会入栈，相当于被摧毁\n",
    "                elif stack[-1] > abs(star):\n",
    "                    continue  # 当前负数被更大的正数摧毁\n",
    "            else:\n",
    "                stack.append(star)  # 当前负数存活\n",
    "    \n",
    "    return stack\n",
    "   \n",
    "# 测试用例   \n",
    "arr1 = [-3, -6, 2, 8, 5, -8, 9, -2, 1]   \n",
    "arr2 = [23, -8, 9, -3, -7, 9, -23, 22]\n",
    "print(f\"{arr1}的计算结果为：{starCrush(arr1)}\")  \n",
    "print(f\"{arr2}的计算结果为：{starCrush(arr2)}\") \n"
   ]
  },
  {
   "cell_type": "markdown",
   "metadata": {},
   "source": [
    "## 问题 5 \n",
    "\n",
    "> 给定一个无序数组nums=[9,-3,-10,0,9,7,33]，请建立一个二叉搜索树存储数组中的所有元素，之后删除二叉树中的元素“0”，再使用中序遍历输出二叉搜索树中的所有元素。\n",
    "\n",
    "使用python编程完成上述任务，并计算时间复杂度\n"
   ]
  },
  {
   "cell_type": "markdown",
   "metadata": {
    "tags": []
   },
   "source": [
    "idea：首先我们要定义一个TreeNode类来表示二叉搜索树的节点，每个节点保存一个值，并且有指向左子树、右子树和父节点的指针。然后根据题目要求我们对二叉树进行构建，即插入操作，从根节点开始，比较待插入值与当前节点值，若值已存在，返回-1；否则根据大小关系向左或向右递归查找插入位置，并且在插入后更新父节点指针。进行删除操作时首先要对节点进行查找，我们基于二叉搜索树的性质进行查找，通过比较值大小向左或向右进行递归查找。找到后要分为3种情况考虑，情况1：如果删除的节点没有左子树，直接将该节点的右子树替换其位置；情况2：如果删除的节点没有右子树，直接将该节点的左子树替换其位置。情况3：如果删除的节点既有左子树又有右子树，那么需要找到该节点右子树的最小节点（即后继节点），将该后继节点替换被删除的节点，并调整子树关系。最后按左-根-右顺序进行中序遍历，输出序列。在这个过程中我们计算平均时间复杂度：进行随机插入时，树高接近$logn$，进行n次插入，因此时间复杂度为$O(nlogn)$；而进行查找操作时，同样由于树的高度接近$logn$，因此查找一个节点的平均时间复杂度为$O(logn)$。而在查找之后进行删除操作，如果节点有两个子树，通常需要找到后继节点（右子树中的最小节点）。在平衡树中，这个操作的时间复杂度是$O(logn)$而最后替换操作和树的调整在平均情况下也是$O(logn)$。因此，删除节点的平均时间复杂度为$O(log n)$。进行中序遍历时需访问所有节点，因此时间复杂度为$O(n)$。因此综上所述，该算法的总时间复杂度为$O(nlogn)$。"
   ]
  },
  {
   "cell_type": "code",
   "execution_count": 7,
   "metadata": {},
   "outputs": [
    {
     "name": "stdout",
     "output_type": "stream",
     "text": [
      "初始数组：[9, -3, -10, 0, 9, 7, 33]\n",
      "初始中序遍历结果：-10 -3 0 7 9 33 \n",
      "删除节点 0 后中序遍历的结果：-10 -3 7 9 33 "
     ]
    }
   ],
   "source": [
    "# add your idea here\n",
    "# your algorithm time complexity is:\n",
    "#定义二叉搜索树的节点\n",
    "class TreeNode:\n",
    "    def __init__(self, val):\n",
    "        self.value = val\n",
    "        self.left = None  # 存储左子节点\n",
    "        self.right = None  # 存储右子节点\n",
    "        self.father = None  # 存储父节点\n",
    "\n",
    "class BST:\n",
    "    # 定义二叉搜索树的各种功能方法\n",
    "    def __init__(self, nodeList=None):\n",
    "        self.root = None\n",
    "        # 初始化\n",
    "        if nodeList:\n",
    "            for node in nodeList:\n",
    "                self.insert(node)\n",
    "                \n",
    "    # 插入节点\n",
    "    def insert(self, node):\n",
    "        cur = self.root\n",
    "        father = None\n",
    "        while cur:\n",
    "            # 如果节点已存在，返回-1\n",
    "            if cur.value == node.value:\n",
    "                return -1\n",
    "            father = cur  # 更新父节点为当前节点\n",
    "            # 小的插入到左子树\n",
    "            if node.value < cur.value:\n",
    "                cur = cur.left\n",
    "            # 大的插入到右子树\n",
    "            else:\n",
    "                cur = cur.right\n",
    "        # 设置新节点的父节点\n",
    "        node.father = father\n",
    "        # 如果父节点为空，说明树为空，新节点为根节点\n",
    "        if father is None:\n",
    "            self.root = node\n",
    "         # 根据值大小决定插入左子树还是右子树\n",
    "        elif node.value < father.value:\n",
    "            father.left = node\n",
    "        else:\n",
    "            father.right = node\n",
    "            \n",
    "    # 用节点v替换节点u    \n",
    "    def transplant(self, u, v):\n",
    "        if u.father is None:\n",
    "            self.root = v\n",
    "        elif u == u.father.left:\n",
    "            u.father.left = v\n",
    "        else:\n",
    "            u.father.right = v\n",
    "        if v:\n",
    "            v.father = u.father\n",
    "            \n",
    "    # 查找节点\n",
    "    def search(self, value):\n",
    "        cur = self.root\n",
    "        while cur:\n",
    "             # 找到节点，返回节点\n",
    "            if cur.value == value:\n",
    "                return cur\n",
    "            # 目标值更小，向左子树查找\n",
    "            elif value < cur.value:\n",
    "                cur = cur.left\n",
    "            # 向右找\n",
    "            else:\n",
    "                cur = cur.right \n",
    "        return None  # 如果节点不存在返回None\n",
    "    \n",
    "    # 删除节点\n",
    "    def delete(self, value):\n",
    "        node = self.search(value)\n",
    "        #如果节点不存在 返回False\n",
    "        if node is None:\n",
    "            return False\n",
    "        # 1：节点没有左子树\n",
    "        if node.left is None:\n",
    "             # 用右子树替换该节点\n",
    "            self.transplant(node, node.right)\n",
    "         # 2：节点没有右子树\n",
    "        elif node.right is None:\n",
    "             # 用左子树替换该节点\n",
    "            self.transplant(node, node.left)\n",
    "        else:\n",
    "            min_right = self.find_min_node(node.right)  # 找到右子树的最小节点（后继）\n",
    "            # 如果后继不是节点的直接右子节点\n",
    "            if min_right.father != node:\n",
    "                self.transplant(min_right, min_right.right) # 用后继的右子树替换后继\n",
    "                min_right.right = node.right  # 将节点的右子树赋给后继\n",
    "                min_right.right.father = min_right  # 更新父节点关系\n",
    "             # 用后继替换要删除的节点\n",
    "            self.transplant(node, min_right)\n",
    "            min_right.left = node.left  # 将节点的左子树赋给后继\n",
    "            min_right.left.father = min_right # 更新父节点关系\n",
    "        return True\n",
    "    \n",
    "# 中序遍历  \n",
    "def inOrder(root):\n",
    "    if root:\n",
    "        # 先遍历左边\n",
    "        inOrder(root.left)\n",
    "        # 根节点\n",
    "        print(root.value, end=\" \")\n",
    "        # 再遍历右边\n",
    "        inOrder(root.right)\n",
    "        \n",
    "# 测试用例   \n",
    "nums = [9, -3, -10, 0, 9, 7, 33]\n",
    "print(f\"初始数组：{nums}\")\n",
    "nodes = [TreeNode(num) for num in nums]\n",
    "bst = BST(nodes)\n",
    "print(\"初始中序遍历结果：\", end=\"\")\n",
    "inOrder(bst.root)\n",
    "print(\"\\n删除节点 0 后中序遍历的结果：\", end=\"\")\n",
    "bst.delete(0)\n",
    "inOrder(bst.root)"
   ]
  },
  {
   "cell_type": "markdown",
   "metadata": {},
   "source": [
    "## 问题 6  \n",
    "\n",
    "> 给定一个包含大写字母和小写字母的字符串 s ，返回 字符串包含的 **最长的回文子串的长度** 。请注意 区分大小写 。比如 \"Aa\" 不能当做一个回文字符串。\n",
    ">\n",
    "\n",
    "请设计一个算法解决上述问题，只需要输出最长回文子串的长度，分析算法设计思路，计算时间复杂度，并基于python编程实现\n",
    "\n",
    "e.g. 输入： s=\"adccaccd\"，  输出：7。 最长回文子串为：\"dccaccd\", 长度为7\n"
   ]
  },
  {
   "cell_type": "markdown",
   "metadata": {},
   "source": [
    "idea：我们利用动态规划法来求解这个问题，首先定义$dp[i,j]$表示$s[i:j+1]$是否为回文串，然后定义状态转移方程： 如果$s[i]=s[j]$并且$s[i+1,j-1]$是回文串，那么$s[i,j]$也是回文串。两个边界条件是单个字符一定是回文串，并且两个字符时也只需要判断是否$s[i]=s[i+1]$如果是的话也是回文串。然后我们根据子串长度从小到大的顺序进行遍历，如果有更长的回文子串就记录下来。当长度大于等于$3$时，由于有两个循环，外循环从$3$开始到$n$，时间复杂度为$O(n)$，内循环遍历所有起点，因此最多也是$n$次，时间复杂度为$O(n)$，因此总的时间复杂度为$O(n) × O(n) = O(n^2)$。"
   ]
  },
  {
   "cell_type": "code",
   "execution_count": 9,
   "metadata": {},
   "outputs": [
    {
     "name": "stdout",
     "output_type": "stream",
     "text": [
      "adccaccd的最长回文子串长度为：7\n"
     ]
    }
   ],
   "source": [
    "# add your idea here\n",
    "# your algorithm time complexity is:O(n^2)\n",
    "def longest_palindrome(s):\n",
    "    n = len(s)\n",
    "    if n < 2:\n",
    "        return n  # 单字符或空字符串直接返回\n",
    "    # 初始化最长回文子串长度为1\n",
    "    max_len = 1 \n",
    "    # 初始化一个nXn的二维动态规划表\n",
    "    dp = [[False] * n for _ in range(n)]\n",
    "    \n",
    "    # 所有长度为 1 的子串都是回文\n",
    "    for i in range(n):\n",
    "        dp[i][i] = True\n",
    "    \n",
    "    # 检查长度为 2 的子串\n",
    "    for i in range(n - 1):\n",
    "        if s[i] == s[i + 1]:\n",
    "            dp[i][i + 1] = True\n",
    "            max_len = 2\n",
    "    \n",
    "    # 检查长度 >= 3 的子串\n",
    "    for length in range(3, n + 1):\n",
    "        # 子串起始位置i\n",
    "        for i in range(n - length + 1):\n",
    "            j = i + length - 1   # 子串结束位置j\n",
    "            # 首尾相同且内部是回文\n",
    "            if s[i] == s[j] and dp[i + 1][j - 1]:   \n",
    "                dp[i][j] = True\n",
    "                if length > max_len:\n",
    "                    max_len = length\n",
    "    \n",
    "    return max_len\n",
    "\n",
    "# 测试用例\n",
    "input_str = \"adccaccd\"\n",
    "print(f\"{input_str}的最长回文子串长度为：{longest_palindrome(input_str)}\") "
   ]
  },
  {
   "cell_type": "markdown",
   "metadata": {},
   "source": [
    "## 问题 7 \n",
    "\n",
    "> 沿一条长河流分散着n座房子。你可以把这条河想象成一条轴，房子是由它们在这条轴上的坐标按顺序排列的。你的公司想在河边的特定地点设置手机基站，这样每户人家都在距离基站4公里的范围内。输入可以看作为一个升序数组，数组元素的取值为大于等于0的正整数，你需要输出最小基站的数目，基站的位置。\n",
    "\n",
    "1. 给出一个时间复杂度为$O(n$) 的算法，使所使用的基站数量最小化，分析算法设计思路，使用python编程实现\n",
    "2. 证明1.中算法产生了最优解决方案。\n",
    "\n",
    "e.g. \n",
    "\n",
    "输入： [1, 5, 12, 33, 34,35]  输出：基站数目为3， 基站位置为[1，12，33]\n",
    "\n"
   ]
  },
  {
   "cell_type": "markdown",
   "metadata": {},
   "source": [
    "idea：\n",
    "1. 可以使用贪心算法来解决这个问题，每次基站的位置要放在最佳的位置上以使之尽可能多的覆盖到最多的房子。具体的做法可以如下：首先初始化基站位置为空，然后从第一个房子开始，选择一个基站，使得该基站能够覆盖这个房子，并且尽可能覆盖后面的房子。将该基站的位置添加到基站列表中，并跳过所有在该基站覆盖范围内的房子。重复以上步骤，直到所有房子都有基站覆盖。而因为最多遍历一次所有房子，因此时间复杂度为$O(n)$。\n",
    "2. 由于贪心算法的选择性质是对于每一轮的选择，选择的基站位置都是使得它可以覆盖当前房子并尽量覆盖更多的房子。这就保证了每次选择都在最大程度上减少了需要的基站数量，意味着我们每次都在处理当前房子时做了最优的决策，从而保证了全局最优解，因此就是最优的算法。"
   ]
  },
  {
   "cell_type": "code",
   "execution_count": 10,
   "metadata": {},
   "outputs": [
    {
     "name": "stdout",
     "output_type": "stream",
     "text": [
      "基站数目为 3，基站位置为 [1, 12, 33]\n"
     ]
    }
   ],
   "source": [
    "# add your idea here\n",
    "# your algorithm time complexity is:O(n)\n",
    "def min_stations(houses):\n",
    "    stations = []\n",
    "    n = len(houses)\n",
    "    i = 0\n",
    "    while i < n:\n",
    "        # 基站放在当前未被覆盖的最远房子上\n",
    "        station = houses[i]\n",
    "        stations.append(station)\n",
    "        # 跳过所有被当前基站覆盖的房子）\n",
    "        while i < n and houses[i] <= station + 4:\n",
    "            i += 1\n",
    "    return len(stations), stations\n",
    "\n",
    "# 测试用例\n",
    "houses = [1, 5, 12, 33, 34, 35]   \n",
    "num_stations, station_positions = min_stations(houses)   \n",
    "print(f\"基站数目为 {num_stations}，基站位置为 {station_positions}\")   "
   ]
  },
  {
   "cell_type": "markdown",
   "metadata": {},
   "source": [
    "## 问题 8  \n",
    "\n",
    "> 给定由n个正整数组成的一个集合$S = \\{a_1, a_2，···，a_n\\}$和一个正整数W，设计一个算法确定是否存在S的一个子集 $K \\subseteq S$, 使K中所有数之和为 $W$, 如果存在返回“True”，否则返回“False”\n",
    "\n",
    "请设计一个时间复杂度为$O(nW)$动态规划算法，解决上述问题，分析算法的设计思路，并且基于python编程实现（不需要输出子集）。\n",
    "\n",
    "e.g. \n",
    "\n",
    "输入：S = {1,4,7,3,5}， W = 11，输出：True。   因为K可以是{4,7}。\n",
    "\n"
   ]
  },
  {
   "cell_type": "markdown",
   "metadata": {},
   "source": [
    "idea：使用动态规划算法首先可以建立一个二维DP表，维度为$(n+1) × (W+1)$，dp[i][j]表示前i个数中是否存在一个子集，其和为j，并最终答案存储在$dp[n][w]$中。然后状态转移方程分为两种情况，首先是不选当前这个数的情况，那么能否凑出和为$j$完全取决于前$i-1$个数字，因此状态转移方程位为$dp[i][j] = dp[i-1][j]$。而如果选当前这个数，则剩余需要凑的和为$j−a[i−1]$，因此检查前$i-1$个数字能否凑出$j−a[i−1]$，所以状态转移方程为$dp[i][j]=dp[i-1][j]$或者是$dp[i][j]=dp[i-1][j-a[i-1]]$。而因为我们有两个循环，外循环需要运行$n$次，内循环运行$W$次，因此总的时间复杂度为$O(n) × O(W) = O(nW)$。"
   ]
  },
  {
   "cell_type": "code",
   "execution_count": 13,
   "metadata": {},
   "outputs": [
    {
     "name": "stdout",
     "output_type": "stream",
     "text": [
      "S=[1, 4, 7, 3, 5], W=11, 输出：True\n"
     ]
    }
   ],
   "source": [
    "# add your idea here\n",
    "# your algorithm time complexity is: O(nW)\n",
    "def subset_sum(S, W):\n",
    "    n = len(S)\n",
    "    # 初始化 DP 表 (n+1) x (W+1)\n",
    "    dp = [[False] * (W + 1) for _ in range(n + 1)]\n",
    "    dp[0][0] = True  # 空集的和为 0\n",
    "\n",
    "    for i in range(1, n + 1):\n",
    "        for j in range(W + 1):\n",
    "             # 不选当前数字\n",
    "            if j < S[i - 1]:\n",
    "                dp[i][j] = dp[i - 1][j]\n",
    "            # 选当前数字\n",
    "            else:\n",
    "                dp[i][j] = dp[i - 1][j] or dp[i - 1][j - S[i - 1]]\n",
    "    \n",
    "    return dp[n][W]\n",
    "   \n",
    "# 测试用例\n",
    "S = [1, 4, 7, 3, 5]   \n",
    "W = 11   \n",
    "print(f\"S={S}, W={W}, 输出：{subset_sum(S, W)}\")"
   ]
  },
  {
   "cell_type": "markdown",
   "metadata": {},
   "source": [
    "\n",
    "\n",
    "## 问题 9 \n",
    "\n",
    "> 给定一个n个物品的集合。物体的重量为$w_1, w_2，…、w_n$，物品的价值分别是$v_1、v_2、…v_n$。给你**两个**重量为 $c$ 的背包。如果你带了一个东西，它可以放在一个背包里，也可以放在另一个背包里，但不能同时放在两个背包里。所有权重和价值都是正整数。\n",
    "\n",
    "1. 设计一个时间复杂度为 $O(nc^2)$ 的动态规划算法，确定可以放入两个背包的物体的最大价值。分析算法设计思路，并基于python编程实现\n",
    "2. \\* 修改1中的算法，输出每个背包的内容（物品对应下标）。\n",
    "\n",
    "e.g.: \n",
    "\n",
    "输入 V=[1,3,2,5,8,7], W=[1,3,2,5,8,7], c=7, 输出：最大价值=14，背包装的物品为：[6] [4，3] （同一个背包中物品装入顺序对结果无影响）  \n"
   ]
  },
  {
   "cell_type": "markdown",
   "metadata": {},
   "source": [
    "idea：\n",
    "1. 这个动态规划算法，我们可以由二维扩展到三维，创建一个三位$DP$表，$dp[i][w1][w2]$，表示：前$i$个物品，第一个背包已用容量$w1$，第二个背包已用容量$w2$，$dp[i][w1][w2]$存储当前状态下的最大价值。对于第$i$个物品，状态转移方程有三种情况：一个背包都不放为$dp[i][w1][w2] = dp[i-1][w1][w2]$，放在第一个背包为$dp[i][w1][w2] = max(dp[i][w1][w2], dp[i-1][w1-weights[i-1]][w2] + values[i-1])$，放在第二个背包为$dp[i][w1][w2] = max(dp[i][w1][w2], dp[i-1][w1][w2-weights[i-1]] + values[i-1])$，最后最大的价值为$dp[n][c][c]$。而由于有三层循环，最外层循环为$i$从$1$到$n$，第二层循环和第三层循环为$w1$和$w2$从$0$到$c$，因此总的时间复杂度为$O(n)×O(c)×O(c)=O(nC^2)$。\n",
    "2. 在问题1的基础上我们要输出每个背包中的内容，可以再额外引入两个三维数组，分别记录物品是否放入了背包1或者背包2，最后再通过遍历这两个数组来输出每个背包中的物品。这样的话其他的操作变化不大，只是增加了两个数组，遍历数组的时间复杂度为$O(n)$，而与问题1中的其他操作相比，总的时间复杂度还是$O(nC^2)$。"
   ]
  },
  {
   "cell_type": "code",
   "execution_count": 17,
   "metadata": {},
   "outputs": [
    {
     "name": "stdout",
     "output_type": "stream",
     "text": [
      "V=[1, 3, 2, 5, 8, 7], W=[1, 3, 2, 5, 8, 7], c=7, 最大价值=14\n"
     ]
    }
   ],
   "source": [
    "# add your idea here\n",
    "# your algorithm time complexity is: O(nc^2)\n",
    "def max_value(weights, values, c):\n",
    "    n = len(weights)\n",
    "    # 初始化三维DP表，dp[i][w1][w2]\n",
    "    dp = [[[0] * (c + 1) for _ in range(c + 1)] for __ in range(n + 1)]\n",
    "\n",
    "    for i in range(1, n + 1):\n",
    "        for w1 in range(c + 1):\n",
    "            for w2 in range(c + 1):\n",
    "                # 不选当前物品\n",
    "                dp[i][w1][w2] = dp[i-1][w1][w2]\n",
    "\n",
    "                # 尝试放入第一个背包\n",
    "                if w1 >= weights[i-1]:\n",
    "                    dp[i][w1][w2] = max(dp[i][w1][w2], dp[i-1][w1 - weights[i-1]][w2] + values[i-1])\n",
    "\n",
    "                # 尝试放入第二个背包\n",
    "                if w2 >= weights[i-1]:\n",
    "                    dp[i][w1][w2] = max(dp[i][w1][w2], dp[i-1][w1][w2 - weights[i-1]] + values[i-1])\n",
    "\n",
    "    return dp[n][c][c]\n",
    "\n",
    "# 测试用例\n",
    "V = [1, 3, 2, 5, 8, 7]\n",
    "W = [1, 3, 2, 5, 8, 7]\n",
    "c = 7\n",
    "maxvalue = max_value(W, V, c)\n",
    "print(f\"V={V}, W={W}, c={c}, 最大价值={maxvalue}\")"
   ]
  },
  {
   "cell_type": "code",
   "execution_count": 22,
   "metadata": {},
   "outputs": [
    {
     "name": "stdout",
     "output_type": "stream",
     "text": [
      "V=[1, 3, 2, 5, 8, 7], W=[1, 3, 2, 5, 8, 7], c=7, 最大价值=14\n",
      "背包1中的物品: [5]\n",
      "背包2中的物品: [2, 3]\n"
     ]
    }
   ],
   "source": [
    "# add your idea here\n",
    "# your algorithm time complexity is: O(nc^2)\n",
    "def max_value2(weights, values, c):\n",
    "    n = len(weights)\n",
    "    # 初始化三维DP表，dp[i][w1][w2]\n",
    "    dp = [[[0] * (c + 1) for _ in range(c + 1)] for __ in range(n + 1)]\n",
    "    # 记录选择的物品：choice1[i][w1][w2] 表示物品i是否放入背包1\n",
    "    choice1 = [[[False] * (c + 1) for _ in range(c + 1)] for __ in range(n + 1)]\n",
    "    choice2 = [[[False] * (c + 1) for _ in range(c + 1)] for __ in range(n + 1)]\n",
    "\n",
    "    for i in range(1, n + 1):\n",
    "        for w1 in range(c + 1):\n",
    "            for w2 in range(c + 1):\n",
    "                # 不选当前物品\n",
    "                dp[i][w1][w2] = dp[i-1][w1][w2]\n",
    "                choice1[i][w1][w2] = False\n",
    "                choice2[i][w1][w2] = False\n",
    "\n",
    "                # 尝试放入第一个背包\n",
    "                if w1 >= weights[i-1]:\n",
    "                    new_value = dp[i-1][w1 - weights[i-1]][w2] + values[i-1]\n",
    "                    if new_value > dp[i][w1][w2]:\n",
    "                        dp[i][w1][w2] = new_value\n",
    "                        choice1[i][w1][w2] = True\n",
    "                        choice2[i][w1][w2] = False\n",
    "\n",
    "                # 尝试放入第二个背包\n",
    "                if w2 >= weights[i-1]:\n",
    "                    new_value = dp[i-1][w1][w2 - weights[i-1]] + values[i-1]\n",
    "                    if new_value > dp[i][w1][w2]:\n",
    "                        dp[i][w1][w2] = new_value\n",
    "                        choice1[i][w1][w2] = False\n",
    "                        choice2[i][w1][w2] = True\n",
    "\n",
    "    # 回溯找出选择的物品\n",
    "    w1, w2 = c, c\n",
    "    bag1 = []\n",
    "    bag2 = []\n",
    "    for i in range(n, 0, -1):\n",
    "        if choice1[i][w1][w2]:\n",
    "            bag1.append(i-1)  # 物品下标从0开始\n",
    "            w1 -= weights[i-1]\n",
    "        elif choice2[i][w1][w2]:\n",
    "            bag2.append(i-1)\n",
    "            w2 -= weights[i-1]\n",
    "\n",
    "    return dp[n][c][c], bag1, bag2\n",
    "   \n",
    "# 测试用例   \n",
    "V = [1, 3, 2, 5, 8, 7]   \n",
    "W = [1, 3, 2, 5, 8, 7]   \n",
    "c = 7   \n",
    "maxvalue, bag1, bag2 = max_value2(W, V, c)   \n",
    "print(f\"V={V}, W={W}, c={c}, 最大价值={maxvalue}\")   \n",
    "print(f\"背包1中的物品: {sorted(bag1)}\")   \n",
    "print(f\"背包2中的物品: {sorted(bag2)}\")\n"
   ]
  },
  {
   "cell_type": "markdown",
   "metadata": {},
   "source": [
    "## 问题 10 \n",
    "\n",
    "> 给定两个字符串 $x[1..n]$ 和 $y[1..m]$，我们想通过以下操作将 $x$ 变换为 $y$ :\n",
    ">\n",
    "> **插入**：在 $x$ 中插入一个字符(在任何位置)；**删除**：从 $x$ 中删除一个字符(在任何位置)； **替换**：用另一个字符替换 $x$ 中的一个字符。\n",
    ">\n",
    "> 例如: $x = abcd$, $y = bcfe$，\n",
    ">\n",
    "> - 将 $x$ 转换为 $y$ 的一种可能方法是：1. 删除 $x$ 开头的 $a$, $x$变成 $bcd$； 2. 将 $x$ 中的字符 $d$ 替换为字符 $f$。$x$ 变成 $bcf$； 3. 在 $x$ 的末尾插入字符 $e$。$x$ 变成 $bcfe$。\n",
    ">\n",
    "> - 另一种可能的方法：1. 删除 $x$ 开头的 $a$,  $x$ 变成 $bcd$； 2. 在 $x$ 中字符 $d$ 之前插入字符 $f$。$x$ 变成 $bcfd$。3. 将 $x$ 中的字符 $d$ 替换为字符 $e$。$x$ 变成 $bcfe$。\n",
    "\n",
    "设计一个时间复杂度为 $O(mn)$ 的算法，返回将 $x$ 转换为 $y$ 所需的最少操作次数。分析算法设计思路，并基于python编程实现。\n"
   ]
  },
  {
   "cell_type": "markdown",
   "metadata": {},
   "source": [
    "idea：这个题可以通过动态规划的方式来进行解决，设$dp[i][j]$表示将$x[0..i-1]$转换为$y[0..j-1]$所需的最少操作次数，状态转移方程有两种情况，第一种是$x[i-1]=y[j-1]$，这种情况下不需要操作，直接继承$dp[i-1][j-1]$，因此$dp[i][j]=dp[i-1][j-1]$，而如果$x[i-1]!=y[j-1]$，插入为$dp[i][j]=dp[i][j-1]+1$，删除为$dp[i][j]=dp[i-1][j]+1$，替换为$dp[i][j]=dp[i-1][j-1]+1$，而我们要取三者的最小值，因此状态转移方程为$dp[i][j] = min(dp[i-1][j-1], dp[i-1][j], dp[i][j-1]))+1$。而由于有$n$行$m$列，要进行嵌套循环，每个位置$dp[i][j]$只需要$O(1)$的时间来进行计算，因此总的时间复杂度为$O(n)×O(m)=O(mn)$。"
   ]
  },
  {
   "cell_type": "code",
   "execution_count": 20,
   "metadata": {},
   "outputs": [
    {
     "name": "stdout",
     "output_type": "stream",
     "text": [
      "将x：abcde转换为y：bcfea所需的最少操作次数为：3次\n"
     ]
    }
   ],
   "source": [
    "# add your idea here\n",
    "# your algorithm time complexity is: O(mn)\n",
    "def min_distance(x, y):\n",
    "    m = len(x)\n",
    "    n = len(y)\n",
    "    \n",
    "    # 初始化 DP 表\n",
    "    dp = [[0] * (n + 1) for _ in range(m + 1)]\n",
    "    \n",
    "    # 边界条件\n",
    "    for i in range(m + 1):\n",
    "        dp[i][0] = i  # 删除所有字符\n",
    "    for j in range(n + 1):\n",
    "        dp[0][j] = j  # 插入所有字符\n",
    "    \n",
    "    # 填充 DP 表\n",
    "    for i in range(1, m + 1):\n",
    "        for j in range(1, n + 1):\n",
    "            if x[i-1] == y[j-1]:\n",
    "                dp[i][j] = dp[i-1][j-1]\n",
    "            else:\n",
    "                dp[i][j] = min(\n",
    "                    dp[i-1][j-1],  # 替换\n",
    "                    dp[i-1][j],     # 删除\n",
    "                    dp[i][j-1]      # 插入\n",
    "                ) + 1\n",
    "    \n",
    "    return dp[m][n]\n",
    "   \n",
    "# 测试用例  \n",
    "x = \"abcde\"   \n",
    "y = \"bcfea\"   \n",
    "print(f\"将x：{x}转换为y：{y}所需的最少操作次数为：{min_distance(x, y)}次\") "
   ]
  }
 ],
 "metadata": {
  "kernelspec": {
   "display_name": "Python 3",
   "language": "python",
   "name": "python3"
  },
  "language_info": {
   "codemirror_mode": {
    "name": "ipython",
    "version": 3
   },
   "file_extension": ".py",
   "mimetype": "text/x-python",
   "name": "python",
   "nbconvert_exporter": "python",
   "pygments_lexer": "ipython3",
   "version": "3.8.8"
  }
 },
 "nbformat": 4,
 "nbformat_minor": 4
}
