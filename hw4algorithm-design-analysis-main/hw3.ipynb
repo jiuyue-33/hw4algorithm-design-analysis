{
 "cells": [
  {
   "cell_type": "markdown",
   "metadata": {},
   "source": [
    "## algorithm design and anlysis-2025 spring  homework 3\n",
    "**Deadline**：2025.5.14\n",
    "\n",
    "**name**:王姗姗\n",
    "\n",
    "\n",
    "note：\n",
    "---\n",
    "1. 带有\\*的题目，申请免上课的同学，必须完成，其他同学选作；\n",
    "2. 请独立完成，如求助了他人或者大模型，请著明，并且不可省略算法分析部分；\n",
    "4. 如若作答有雷同，全部取消成绩；\n",
    "3. 需要书面作答的题目，可以通过引用图片的形式添加，但是注意上传项目时包含所引用的图片的源文件；\n",
    "4. $log_n$ 默认表示$log_2{n}$;"
   ]
  },
  {
   "cell_type": "markdown",
   "metadata": {},
   "source": [
    "## 问题 1  \n",
    "\n",
    "请证明基于比较的排序算法计算复杂度下界为$\\Omega(nlogn)$"
   ]
  },
  {
   "cell_type": "markdown",
   "metadata": {},
   "source": [
    "you can refer a handwritten picture, pleas upload the picture in /fig/xxx.png\n",
    "answer:<img src=\"./fig/hw3q1-answer.jpg\" alt=\"drawing\" width=\"60%\"/>"
   ]
  },
  {
   "cell_type": "markdown",
   "metadata": {},
   "source": [
    "## 问题 2 \n",
    "\n",
    "构建二叉搜索树\n",
    "\n",
    "> 1. 给定一个数组 [48, 33, 49, 47, 42, 46, 32], 构建一个二叉搜索树存储这些数据，请**绘制**所构建的**二叉搜索树**（标明结点的值）。\n",
    "> 2. 从第1问的二叉搜索树中删除33，请**绘制**删除33后的**二叉搜索树**（标明结点的值）\n",
    "\n",
    "- 推荐使用graphviz包绘制树的结构"
   ]
  },
  {
   "cell_type": "markdown",
   "metadata": {},
   "source": [
    "you can refer a handwritten picture, pleas upload the picture in /fig/xxx.png\n",
    "answer：\n",
    "1. <img src=\"./fig/hw3q2.1-answer.png\" alt=\"drawing\" width=\"30%\"/>\n",
    "2. <img src=\"./fig/hw3q2.2-answer.png\" alt=\"drawing\" width=\"30%\"/>"
   ]
  },
  {
   "cell_type": "markdown",
   "metadata": {},
   "source": [
    "## 问题 3 \n",
    "\n",
    "> 下面是九门课程的开始和结束时间:\n",
    ">\n",
    "> [(9:00,12:30), (11:00,14:00), (13:00, 14:30), (9:00,10:30),(13:00, 14:30),(14:00,16:30), (15:00,16:30), (15:00,16:30), (9:00,10:30)]\n",
    ">\n",
    "> 请使用贪婪算法为这九门课分配教室，要求在同一天内安排这些课，并且每个教室同一时间只能安排一门课。\n",
    "\n",
    "**请问最少需要几间教室，罗列出每个教室安排的课程**"
   ]
  },
  {
   "cell_type": "markdown",
   "metadata": {},
   "source": [
    "idea：使用贪婪算法进行分配首先我们按课程开始时间升序排序以确保最先处理最早的课程。然后开始对课程进行分配，对于每门课程，检查现有教室中是否有教室的最后一门课已结束，如果已经结束则可安排在此教室，如果都没有结束，那么就要开辟一个新教室了。如此循环，直到所有课程都被分配完毕。使用的内置排序算法，时间复杂度为$O(nlogn)$，对于课程分配阶段，由于有内外两层循环，而循环的次数最大都为n次，因此分配的时间复杂度为$O(n^2)$。所以总的时间复杂度为$O(n^2)$。"
   ]
  },
  {
   "cell_type": "code",
   "execution_count": 4,
   "metadata": {
    "vscode": {
     "languageId": "plaintext"
    }
   },
   "outputs": [
    {
     "name": "stdout",
     "output_type": "stream",
     "text": [
      "最少需要的教室数：3\n",
      "\n",
      "教室 1 的课程安排：\n",
      "09:00-12:30\n",
      "13:00-14:30\n",
      "15:00-16:30\n",
      "\n",
      "教室 2 的课程安排：\n",
      "09:00-10:30\n",
      "11:00-14:00\n",
      "14:00-16:30\n",
      "\n",
      "教室 3 的课程安排：\n",
      "09:00-10:30\n",
      "13:00-14:30\n",
      "15:00-16:30\n"
     ]
    }
   ],
   "source": [
    "# add your code here\n",
    "# your algorithm time complexity is: O(n^2)\n",
    "#使用贪婪算法将课程分配到教室\n",
    "def greedy_classroom_assignment(courses):\n",
    "\n",
    "    # 按开始时间对课程进行排序\n",
    "    courses.sort(key=lambda x: x[0])\n",
    "\n",
    "    # 初始化教室列表\n",
    "    classrooms = []\n",
    "\n",
    "    for course in courses:\n",
    "        # 尝试将课程分配给现有的教室\n",
    "        assigned = False\n",
    "        for classroom in classrooms:\n",
    "            # 检查当前教室最后一门课的结束时间是否早于当前课程的开始时间\n",
    "            if classroom[-1][1] <= course[0]:\n",
    "                classroom.append(course)\n",
    "                assigned = True\n",
    "                break\n",
    "\n",
    "        # 如果无法分配给现有教室，则创建一个新教室\n",
    "        if not assigned:\n",
    "            classrooms.append([course])\n",
    "\n",
    "    return len(classrooms), classrooms   #教室数目，教室安排\n",
    "   \n",
    "# # 测试用例  \n",
    "courses = [\n",
    "    (9, 12.5),   # 9:00-12:30\n",
    "    (11, 14),    # 11:00-14:00\n",
    "    (13, 14.5),  # 13:00-14:30\n",
    "    (9, 10.5),   # 9:00-10:30\n",
    "    (13, 14.5),  # 13:00-14:30\n",
    "    (14, 16.5),  # 14:00-16:30\n",
    "    (15, 16.5),  # 15:00-16:30\n",
    "    (15, 16.5),  # 15:00-16:30\n",
    "    (9, 10.5)    # 9:00-10:30   \n",
    "]\n",
    "   \n",
    "# 获取结果   \n",
    "num_classrooms, classroom_assignments = greedy_classroom_assignment(courses)\n",
    "print(f\"最少需要的教室数：{num_classrooms}\")   \n",
    "for i, room in enumerate(classroom_assignments, 1):\n",
    "    print(f\"\\n教室 {i} 的课程安排：\")\n",
    "    for course in room:\n",
    "        # 将时间转换回标准格式\n",
    "        start_hour = int(course[0])\n",
    "        start_min = int((course[0] - start_hour) * 60)\n",
    "        end_hour = int(course[1])\n",
    "        end_min = int((course[1] - end_hour) * 60)\n",
    "        \n",
    "        print(f\"{start_hour:02d}:{start_min:02d}-{end_hour:02d}:{end_min:02d}\")   \n"
   ]
  },
  {
   "cell_type": "markdown",
   "metadata": {},
   "source": [
    "## 问题 4 \n",
    "\n",
    "> 爬楼梯问题：假设爬楼梯时你每次只能爬一阶或者爬两阶，问爬上n阶的楼梯，你一共有多少种方法\n",
    "\n",
    "请设计算法完成该问题，分析算法设计思路，计算时间复杂度，并基于python编程实现"
   ]
  },
  {
   "cell_type": "markdown",
   "metadata": {},
   "source": [
    "idea：这个问题可以使用动态规划法来进行解决，到达第n阶的方法数=到达第n-1阶的方法数（即最后爬一阶）+到达第n-2阶的方法数（即最后爬两阶）。我们初始化爬一阶只有一种方法，爬两阶有两种方法：dp[1]=1，dp[2]=2。然后状态转换方程为：dp[i]=dp[i-1]+dp[i-2]。使用动态规划算法由于最多只遍历一次，因此时间复杂度为$\\theta(n)$。"
   ]
  },
  {
   "cell_type": "code",
   "execution_count": 8,
   "metadata": {},
   "outputs": [
    {
     "name": "stdout",
     "output_type": "stream",
     "text": [
      "10阶楼梯有89种爬法\n"
     ]
    }
   ],
   "source": [
    "# add your code here\n",
    "# your algorithm time complexity is: Θ(n)\n",
    "def climbStairs(n):\n",
    "    if n <= 2:\n",
    "        return n\n",
    "    dp = [0] * (n + 1)\n",
    "    dp[1], dp[2] = 1, 2\n",
    "    for i in range(3, n + 1):\n",
    "        dp[i] = dp[i - 1] + dp[i - 2]\n",
    "    return dp[n]\n",
    "   \n",
    "# 测试用例   \n",
    "n = 10   \n",
    "num = climbStairs(n)   \n",
    "print(f\"{n}阶楼梯有{num}种爬法\")  \n"
   ]
  },
  {
   "cell_type": "markdown",
   "metadata": {},
   "source": [
    "## 问题 5 \n",
    "\n",
    "> 0-1背包问题：现在有4块大理石，每个大理石对应的重量和价值使用一个元组表示, 即（重量，价值），4块大理石的重量和价值为：[(5,10), (4,40), (6,30), (3, 50)], 假设你有一辆最大承重为9的小推车，请问使用这个小推车装大理石的最大价值为多少\n",
    "\n",
    "请设计一个算法解决该问题，分析算法设计思路，计算时间复杂度，并基于python编程实现"
   ]
  },
  {
   "cell_type": "markdown",
   "metadata": {},
   "source": [
    "idea：可以使用动态规划来解决这个问题，用二维数组dp[i][w]表示前i个物品在背包容量为w时的最大价值。对于第i个物品有两种情况，不选第i个物品：最大价值与前i-1个物品相同，状态转移方程为dp[i][w]=dp[i-1][w]；选第i个物品，需要预留当前物品的重量weights[i-1]，剩余容量为w-weights[i-1]，此时最大价值为 dp[i-1][w - weights[i-1]] + values[i-1]，因此这种选择要取两种情况的最大值状态转移方程为：max(dp[i - 1][w], dp[i - 1][w - weights[i - 1]] + values[i - 1])。因为初始化dp表以及填表时进行的两层循环，时间复杂度都为$O(n)×O(capacity)=O(n*capacity)$，所以总时间复杂度为$O(n*capacity)$。"
   ]
  },
  {
   "cell_type": "code",
   "execution_count": 43,
   "metadata": {},
   "outputs": [
    {
     "name": "stdout",
     "output_type": "stream",
     "text": [
      "装大理石的最大价值为：90.00\n"
     ]
    }
   ],
   "source": [
    "# add your code here\n",
    "# your algorithm time complexity is:\n",
    "#动态规划 knapsack\n",
    "def knapsack(weights, values, capacity):\n",
    "\n",
    "    n = len(weights)\n",
    "    dp = [[0] * (capacity + 1) for _ in range(n + 1)]\n",
    "\n",
    "    for i in range(1, n + 1):\n",
    "        for w in range(capacity + 1):\n",
    "            # 可以选择的话取最大的\n",
    "            if weights[i - 1] <= w:\n",
    "                dp[i][w] = max(dp[i - 1][w], dp[i - 1][w - weights[i - 1]] + values[i - 1])\n",
    "                # 不能取\n",
    "            else:\n",
    "                dp[i][w] = dp[i - 1][w]\n",
    "\n",
    "    return dp[n][capacity]\n",
    "\n",
    "# 测试用例\n",
    "weights = [5, 4, 6, 3]\n",
    "values = [10, 40, 30, 50]\n",
    "capacity = 9\n",
    "\n",
    "max_value = knapsack(weights, values, capacity)\n",
    "print(f\"装大理石的最大价值为：{max_value:.2f}\")"
   ]
  },
  {
   "cell_type": "markdown",
   "metadata": {},
   "source": [
    "## 问题 6 \n",
    "给定 `n` 个非负整数表示每个宽度为 `1` 的柱子的高度图，计算按此排列的柱子，下雨之后能接多少雨水。\n",
    "\n",
    "\n",
    "\n",
    "<div style=\"text-align:center;width:800px;\"> <img alt=\"\" src=\"./fig/hw3q6.png\"> </div>\n",
    "\n",
    "请分析算法设计思路，计算时间复杂度，并基于python编程实现"
   ]
  },
  {
   "cell_type": "markdown",
   "metadata": {},
   "source": [
    "idea：可以使用动态规划来解决这个问题，通过预处理每个位置的左右最大值避免重复计算来解决问题。首先预处理左边的最大值：定义数组left_max，其中 left_max[i]表示位置i左侧的最大高度，然后从左到右遍历得到每个位置从左边开始的最大高度；再预处理右边的最大值：定义数组right_max，其中right_max[i]表示位i右侧的最大高度，然后从又到左遍历得到每个位置从左边开始的最大高度。最后计算每个位置的接水量，对于位置i，如果左右高度都比它高，那么它就能接到雨水，并使用左右高度较小的那个减去当前位置的高度，即可算出这个凹陷接到的雨水。在这个过程中，从左到右、从右到左以及最后的计算都只遍历一次数组，因此该算法的时间复杂度为$\\theta(n)$。"
   ]
  },
  {
   "cell_type": "code",
   "execution_count": 44,
   "metadata": {},
   "outputs": [
    {
     "name": "stdout",
     "output_type": "stream",
     "text": [
      "heigt1=[0, 1, 0, 2, 1, 0, 1, 3, 2, 1, 2, 1]能够接到的雨水是：6\n",
      "heigt2=[4, 2, 0, 3, 2, 5]能够接到的雨水是：9\n"
     ]
    }
   ],
   "source": [
    "# add your code here\n",
    "# your algorithm time complexity is:Θ(n)\n",
    "# 使用动态规划法解决问题\n",
    "def trap(height):\n",
    "    if not height:\n",
    "        return 0\n",
    "    \n",
    "    n = len(height)\n",
    "    left_max = [0] * n\n",
    "    right_max = [0] * n\n",
    "    res = 0\n",
    "    \n",
    "    # 从左到右计算左侧最大值\n",
    "    left_max[0] = height[0]\n",
    "    for i in range(1, n):\n",
    "        left_max[i] = max(left_max[i-1], height[i])\n",
    "    \n",
    "    # 从右到左计算右侧最大值\n",
    "    right_max[n-1] = height[n-1]\n",
    "    for i in range(n-2, -1, -1):\n",
    "        right_max[i] = max(right_max[i+1], height[i])\n",
    "    \n",
    "    # 计算每个位置的雨水贡献\n",
    "    for i in range(n):\n",
    "        res += min(left_max[i], right_max[i]) - height[i]\n",
    "    \n",
    "    return res\n",
    "\n",
    "# 测试用例\n",
    "heigt1 = [0,1,0,2,1,0,1,3,2,1,2,1]\n",
    "heigt2 = [4,2,0,3,2,5]\n",
    "print(f\"heigt1={heigt1}能够接到的雨水是：{trap(heigt1)}\" )\n",
    "print(f\"heigt2={heigt2}能够接到的雨水是：{trap(heigt2)}\" )"
   ]
  },
  {
   "cell_type": "markdown",
   "metadata": {},
   "source": [
    "## 问题 7 \n",
    "\n",
    "**股票投资组合优化**： 假设你是一位投资者，想要在不同的股票中分配你的资金，以最大化你的投资回报。每只股票都有不同的预期收益率和风险。你的目标是选择一些股票，使得总投资金额不超过你的预算，并且预期收益最大化。\n",
    "\n",
    "在这个情况下，你可以将每只股票视为一个“物品”，其重量为投资金额，价值为预期收益率。然后，你可以使用分级背包问题的方法来选择部分股票，以便在预算内获得最大的预期收益。\n",
    "\n",
    "以下是一个简化的例子：\n",
    "\n",
    "假设你有以下三只股票可供选择：\n",
    "\n",
    "1. 股票 A：投资金额 5000 美元，预期收益率 10%\n",
    "2. 股票 B：投资金额 3000 美元，预期收益率 8%\n",
    "3. 股票 C：投资金额 2000 美元，预期收益率 12%\n",
    "\n",
    "请设计算法找到最优投资方案，分析算法设计思路，计算时间复杂度，并基于python编程实现"
   ]
  },
  {
   "cell_type": "markdown",
   "metadata": {},
   "source": [
    "idea：对于分级背包问题可以使用贪心算法来进行求解得到最优解，先计算每美元投资的收益率，然后按照收益率从高到低优先投资收益率最高的股票。对于每只股票，若剩余的金额大于股票所需金额就全投，如果剩余预算不足那么就按剩余金额部分投资，直到预算全部耗尽。本算法使用的内置的排序算法，时间复杂度为$O(nlogn)$，对于单次遍历已经进行排序的股票列表的时间复杂度为$O(n)$，因此本算法的时间复杂度为$O(nlogn)$。"
   ]
  },
  {
   "cell_type": "code",
   "execution_count": 20,
   "metadata": {},
   "outputs": [
    {
     "name": "stdout",
     "output_type": "stream",
     "text": [
      "最大收益: $580.00\n",
      "投资组合:\n",
      "投资$2000到收益率12%的股票，获利$240.00\n",
      "投资$3000到收益率8%的股票，获利$240.00\n",
      "投资$1000到收益率10%的股票，获利$100.00\n"
     ]
    }
   ],
   "source": [
    "# add your code here\n",
    "# your algorithm time complexity is:O(nlogn)\n",
    "#使用贪心算法进行求解\n",
    "def fractional_knapsack(budget, stocks):\n",
    "    # 计算每美元收益率并降序排序\n",
    "    stocks.sort(key=lambda x: x[1]/x[0], reverse=True)\n",
    "    \n",
    "    total_profit = 0\n",
    "    remaining = budget\n",
    "    portfolio = []\n",
    "    \n",
    "    # 遍历排序后的股票列表\n",
    "    for cost, rate in stocks:\n",
    "        if remaining <= 0:\n",
    "            break\n",
    "         # 计算实际投资金额\n",
    "        invest = min(cost, remaining)\n",
    "        # 计算本次投资收益\n",
    "        profit = invest * rate / 100\n",
    "        portfolio.append((invest, rate, profit))\n",
    "        # 更新总收益和剩余预算\n",
    "        total_profit += profit\n",
    "        remaining -= invest\n",
    "    \n",
    "    return total_profit, portfolio\n",
    "\n",
    "# 测试用例\n",
    "stocks = [(5000, 10), (3000, 8), (2000, 12)]\n",
    "budget = 6000\n",
    "profit, portfolio = fractional_knapsack(budget, stocks)\n",
    "print(f\"最大收益: ${profit:.2f}\")\n",
    "print(\"投资组合:\")\n",
    "for invest, rate, profit in portfolio:\n",
    "    print(f\"投资${invest}到收益率{rate}%的股票，获利${profit:.2f}\")"
   ]
  },
  {
   "cell_type": "markdown",
   "metadata": {},
   "source": [
    "## 问题 8\n",
    "\n",
    "给你二叉搜索树的根节点 root ，该树中的恰好两个节点的值被错误地交换。请在不改变其结构的情况下，恢复这棵树 。设计算法解决该问题，分析算法设计思路，计算时间复杂度，并基于python编程实现\n",
    "\n",
    "e.g.:\n",
    "---\n",
    "1.\n",
    "\n",
    "<div style=\"text-align:center;width:200px;\"> <img alt=\"\" src=\"./fig/hw3q9-1.jpg\"> </div>\n",
    "输入：root = [1,3,null,null,2]， 输出为：[3,1,null,null,2]， \n",
    "\n",
    "解释：3 不能是 1 的左孩子，因为 3 > 1 。交换 1 和 3 使二叉搜索树有效。\n",
    "\n",
    "2.\n",
    "\n",
    " <div style=\"text-align:center;width:200px;\"> <img alt=\"\" src=\"./fig/hw3q9-1.jpg\"> </div>\n",
    "输入： root=[3,1,4,null,null,2]， 输出为：[2,1,4,null,null,3]\n",
    "\n",
    "解释：2 不能在 3 的右子树中，因为 2 < 3 。交换 2 和 3 使二叉搜索树有效。"
   ]
  },
  {
   "cell_type": "markdown",
   "metadata": {},
   "source": [
    "idea：解决这个题的关键一点在于根据二叉搜索树的性质，中序遍历结果为严格递增序列，而由于两个节点被错误的交换了，因此通过中序遍历该序列中会出现一到两个逆序对。如果只有一对逆序，交换这两个节点即可；如果有两对逆序，则第一个错误节点是第一对的较大节点，第二个错误节点是第二对的较小节点，同样的也是交换它们的值即可。而由于输入输出都是列表，因此可以通过层序遍历列表与二叉搜索树结构互相转换。在整个过程中恢复二叉搜索树时只进行了一次中序遍历，因此它的时间复杂度为$\\theta(n)$，二叉搜索树和列表的相互转换的时候也只对序列进行了一次遍历，因此时间复杂度也为$\\theta(n)$，因此总的时间复杂度为$\\theta(n)$。"
   ]
  },
  {
   "cell_type": "code",
   "execution_count": 36,
   "metadata": {},
   "outputs": [
    {
     "name": "stdout",
     "output_type": "stream",
     "text": [
      "list1=[1, 3, 'null', 'null', 2]恢复后的树结构:[3, 1, 'null', 'null', 2]\n",
      "list2=[3, 1, 4, 'null', 'null', 2]恢复后的树结构:[2, 1, 4, 'null', 'null', 3]\n"
     ]
    }
   ],
   "source": [
    "# add your code here\n",
    "# your algorithm time complexity is:Θ(n)\n",
    "from collections import deque\n",
    "# 定义二叉树的节点结构\n",
    "class TreeNode:\n",
    "    def __init__(self, val=0, left=None, right=None):\n",
    "        self.val = val\n",
    "        self.left = left\n",
    "        self.right = right\n",
    "\n",
    "class Solution:\n",
    "    # 恢复二叉搜索树\n",
    "    def recoverTree(self, root: TreeNode):\n",
    "        self.prev = None\n",
    "        self.first = None\n",
    "        self.second = None\n",
    "        # 中序遍历找到错误节点\n",
    "        self.inorder(root)\n",
    "        # 交换两个错误节点的值\n",
    "        if self.first and self.second:\n",
    "            self.first.val, self.second.val = self.second.val, self.first.val\n",
    "            \n",
    "    # 中序遍历 BST，找到两个错误节点。\n",
    "    def inorder(self, node):\n",
    "        if not node:\n",
    "            return\n",
    "        # 遍历左子树\n",
    "        self.inorder(node.left)\n",
    "        # 处理当前节点\n",
    "        if self.prev and self.prev.val > node.val:\n",
    "            if not self.first:\n",
    "                self.first = self.prev  # 第一个错误节点是 prev\n",
    "            self.second = node  # 第二个错误节点是 node\n",
    "        self.prev = node\n",
    "        # 遍历右子树\n",
    "        self.inorder(node.right)\n",
    "        \n",
    "    # 将二叉树转换为层序遍历的列表\n",
    "    def tree_to_list(self, root):\n",
    "        if not root:\n",
    "            return []\n",
    "        queue = deque([root]) # 使用队列进行层序遍历\n",
    "        result = []\n",
    "        while queue:\n",
    "            node = queue.popleft()\n",
    "            if node:\n",
    "                result.append(node.val)\n",
    "                queue.append(node.left)\n",
    "                queue.append(node.right)\n",
    "            # 空节点标记为 'null'\n",
    "            else:\n",
    "                result.append('null')\n",
    "        \n",
    "        # 移除末尾多余的空节点\n",
    "        while result and result[-1] == 'null':\n",
    "            result.pop()\n",
    "                \n",
    "        return result\n",
    "\n",
    "# 将列表转换为二叉树   \n",
    "def list_to_tree(lst):\n",
    "    if not lst:\n",
    "        return None\n",
    "    root = TreeNode(lst[0])\n",
    "    queue = deque([root])\n",
    "    i = 1\n",
    "    while queue and i < len(lst):\n",
    "        node = queue.popleft()\n",
    "        if lst[i] != 'null':\n",
    "            node.left = TreeNode(lst[i])  # 创建左子节点\n",
    "            queue.append(node.left)\n",
    "        i += 1\n",
    "        if i < len(lst) and lst[i] != 'null':\n",
    "            node.right = TreeNode(lst[i])   # 创建右子节点\n",
    "            queue.append(node.right)\n",
    "        i += 1\n",
    "    return root\n",
    "   \n",
    "# 测试用例   \n",
    "list1 = [1,3,'null','null',2]   \n",
    "root1 = list_to_tree(list1)\n",
    "# 创建 Solution 实例   \n",
    "solution = Solution()\n",
    "# 恢复 BST   \n",
    "solution.recoverTree(root1)\n",
    "# 将恢复后的树转换为列表   \n",
    "output_list1 = solution.tree_to_list(root1)\n",
    "print(f\"list1={list1}恢复后的树结构:{output_list1}\")  \n",
    "list2 = [3,1,4,'null','null',2]\n",
    "root2 = list_to_tree(list2)\n",
    "# 恢复 BST   \n",
    "solution.recoverTree(root2)\n",
    "# 将恢复后的树转换为列表   \n",
    "output_list2 = solution.tree_to_list(root2)\n",
    "print(f\"list2={list2}恢复后的树结构:{output_list2}\")  "
   ]
  },
  {
   "cell_type": "markdown",
   "metadata": {},
   "source": [
    "## 问题 9  \n",
    "\n",
    "给你一个二叉树的根节点 root ，树中每个节点都存放有一个 0 到 9 之间的数字。每条从根节点到叶节点的路径都代表一个数字：\n",
    "\n",
    "> 例如，从根节点到叶节点的路径 1 -> 2 -> 3 表示数字 123 。\n",
    "\n",
    "设计一个算法计算从根节点到叶节点生成的所有数字之和 ，分析算法设计思路，计算时间复杂度，并基于python编程实现\n",
    "\n",
    "叶节点:是指没有子节点的节点。\n",
    "\n",
    "e.g.:\n",
    "---\n",
    "1.\n",
    "\n",
    " <div style=\"text-align:center;width:200px;\"> <img alt=\"figure\" src=\"./fig/hw3q10-1.jpg\"> </div>\n",
    "\n",
    " 输入：root = [1,2,3], 输出：25\n",
    "\n",
    "解释：从根到叶子节点路径 1->2 代表数字 12，1->3 代表数字 13，因此和为 12 + 13 = 25 。\n",
    "\n",
    "2.\n",
    "\n",
    " <div style=\"text-align:center;width:200px;\"> <img alt=\"figure\" src=\"./fig/hw3q10-2.jpg\"> </div>\n",
    "\n",
    " 输入：root = [4,9,0,5,1], 输出：1026\n",
    "\n",
    "解释：从根到叶子节点路径 4->9->5 代表数字 495，4->9->1 代表数字 491，4->0 代表数字 40。因此和为 495 + 491 + 40 = 1026 。"
   ]
  },
  {
   "cell_type": "markdown",
   "metadata": {},
   "source": [
    "idea：由于要计算从根节点到叶节点生成的所有数字之和，因此可以使用深度优先搜索算法，这样读出来的节点上的数字刚好就是数字的大小排列。深度优先搜索算法从根节点出发，依次读入当前路径的数字，而每访问一个节点，使用10×之前的数字再加上当前节点的数字来表示现在的数字，这样以此遍历下去，直到遍历到叶子节点为止，而对左右子树要以此进行递归计算。因为每个节点都要处理以此，因此总的时间复杂度为$\\theta(n)$。"
   ]
  },
  {
   "cell_type": "code",
   "execution_count": 38,
   "metadata": {},
   "outputs": [
    {
     "name": "stdout",
     "output_type": "stream",
     "text": [
      "root1的和为：25\n",
      "root2的和为：1026\n"
     ]
    }
   ],
   "source": [
    "# add your code here\n",
    "# your algorithm time complexity is:Θ(n)\n",
    "# 定义二叉树节点   \n",
    "class TreeNode:\n",
    "    def __init__(self, val=0, left=None, right=None):\n",
    "        self.val = val      # 节点值（0-9）\n",
    "        self.left = left    # 左子节点\n",
    "        self.right = right  # 右子节点\n",
    "        \n",
    "# 使用深度优先算法计算所有根到叶子路径的数字之和\n",
    "def sumNumbers(root: TreeNode):\n",
    "    # 递归辅助函数\n",
    "    def dfs(node, current_num):\n",
    "        if not node:\n",
    "            return 0  # 空节点无贡献\n",
    "        \n",
    "        # 更新当前路径数字：current_num * 10 + 当前节点值\n",
    "        current_num = current_num * 10 + node.val\n",
    "        \n",
    "        # 如果是叶子节点，返回当前数字\n",
    "        if not node.left and not node.right:\n",
    "            return current_num\n",
    "        \n",
    "        # 递归计算左子树和右子树的和\n",
    "        return dfs(node.left, current_num) + dfs(node.right, current_num)\n",
    "    \n",
    "    # 从根节点开始，初始数字为0\n",
    "    return dfs(root, 0)\n",
    "\n",
    "   \n",
    "# 测试用例   \n",
    "root1 = TreeNode(1, TreeNode(2), TreeNode(3))   \n",
    "print(f\"root1的和为：{sumNumbers(root1)}\")\n",
    "root2 = TreeNode(4,TreeNode(9, TreeNode(5), TreeNode(1)),TreeNode(0))   \n",
    "print(f\"root2的和为：{sumNumbers(root2)}\")\n"
   ]
  },
  {
   "cell_type": "markdown",
   "metadata": {},
   "source": [
    "## 问题 10  \n",
    "\n",
    "给你一个二叉树的根节点 root ， 检查它是否轴对称。\n",
    "\n",
    "1. 分析算法设计思路，计算时间复杂度，并基于python编程实现\n",
    "2. \\* 设计使用递归和迭代两种方法解决这个问题，计算时间复杂度，并基于python编程实现\n",
    "\n",
    "e.g.:\n",
    "---\n",
    "1.\n",
    "\n",
    " <div style=\"text-align:center;width:200px;\"> <img alt=\"figure\" src=\"./fig/hw3q11-1.png\"> </div>\n",
    "\n",
    " 输入：root = [1,2,2,3,4,4,3]， 输出：true\n",
    "\n",
    "解释：二叉树 [1,2,2,3,4,4,3] 对称。\n",
    "\n",
    "2.\n",
    "\n",
    " <div style=\"text-align:center;width:200px;\"> <img alt=\"figure\" src=\"./fig/hw3q11-2.png\"> </div>\n",
    "\n",
    " 输入：root = [1,2,2,null,3,null,3]， 输出：false"
   ]
  },
  {
   "cell_type": "markdown",
   "metadata": {},
   "source": [
    "idea：检查给定的二叉树是否是轴对称的可以通过递归方式来进行检查，定义一个辅助函数来判断两棵树是否是对称的，递归条件为当前节点值是否相等、左子树的左节点和右子树的右节点是否对称和左子树的右节点和右子树的左节点是否对称。而终止条件是如果左子树和右子树都为空，说明对称；如果左子树或右子树为空，说明不对称。而在这个算法中，由于会遍历每个节点，而每次访问的时间复杂度为$O(1)$，共有n个，因此总的时间复杂度为$\\theta(n)$。"
   ]
  },
  {
   "cell_type": "code",
   "execution_count": 45,
   "metadata": {},
   "outputs": [
    {
     "name": "stdout",
     "output_type": "stream",
     "text": [
      "root1的轴对称输出是：True\n",
      "root2的轴对称输出是：False\n"
     ]
    }
   ],
   "source": [
    "# add your code here\n",
    "# your algorithm time complexity is:Θ(n)\n",
    "class TreeNode:\n",
    "    def __init__(self, val=0, left=None, right=None):\n",
    "        self.val = val      # 节点值\n",
    "        self.left = left    # 左子节点\n",
    "        self.right = right  # 右子节点\n",
    "# 判断二叉树是否轴对称\n",
    "def isSymmetric(root: TreeNode):\n",
    "    # 递归判断两棵树是否互为镜像\n",
    "    def isMirror(left, right):\n",
    "        # 如果两个节点都为空，说明对称\n",
    "        if not left and not right:\n",
    "            return True\n",
    "        \n",
    "        # 如果只有一个节点为空，说明不对称\n",
    "        if not left or not right:\n",
    "            return False\n",
    "    \n",
    "        # 检查当前节点的值是否相等，并递归检查它们的子树是否对称\n",
    "        return (left.val == right.val and \n",
    "                isMirror(left.left, right.right) and \n",
    "                isMirror(left.right, right.left))\n",
    "    \n",
    "    # 如果树为空，默认是对称的\n",
    "    if not root:\n",
    "        return True\n",
    "    \n",
    "    # 从根节点的左右子树开始检查\n",
    "    return isMirror(root.left, root.right)\n",
    "\n",
    "# 测试用例   \n",
    "root1 = TreeNode(1,TreeNode(2, TreeNode(3), TreeNode(4)),TreeNode(2, TreeNode(4), TreeNode(3)))   \n",
    "print(f\"root1的轴对称输出是：{isSymmetric(root1)}\")  \n",
    "root2 = TreeNode(1,TreeNode(2, None, TreeNode(3)),TreeNode(2, None, TreeNode(3)))   \n",
    "print(f\"root2的轴对称输出是：{isSymmetric(root2)}\")  "
   ]
  },
  {
   "cell_type": "markdown",
   "metadata": {},
   "source": [
    "idea：第一问回答使用的是递归法，因此要解决第二问可以直接使用迭代法即解决了问题。迭代法使用队列来模拟递归过程，每次从队列中取出左子树和右子树的对应节点，检查它们的值是否相等。如果相等，则将它们的子节点按镜像顺序入队。若队列中所有节点都满足对称条件，则二叉树对称。由于每个节点最多被访问一次，但是可能会提前结束，因此时间复杂度为$O(n)$。"
   ]
  },
  {
   "cell_type": "code",
   "execution_count": 46,
   "metadata": {},
   "outputs": [
    {
     "name": "stdout",
     "output_type": "stream",
     "text": [
      "root1的轴对称输出是：True\n",
      "root2的轴对称输出是：False\n"
     ]
    }
   ],
   "source": [
    "# add your code here\n",
    "# your algorithm time complexity is:O(n)\n",
    "from collections import deque\n",
    "   \n",
    "def isSymmetric_iterative(root: TreeNode):\n",
    "    if not root:\n",
    "        return True\n",
    "    \n",
    "    queue = deque()\n",
    "    queue.append(root.left)\n",
    "    queue.append(root.right)\n",
    "    \n",
    "    while queue:\n",
    "        left = queue.popleft()\n",
    "        right = queue.popleft()\n",
    "        \n",
    "        # 如果两个节点都为空，继续检查\n",
    "        if not left and not right:\n",
    "            continue\n",
    "        \n",
    "        # 如果只有一个节点为空，不对称\n",
    "        if not left or not right:\n",
    "            return False\n",
    "        \n",
    "        # 检查节点值是否相等\n",
    "        if left.val != right.val:\n",
    "            return False\n",
    "        \n",
    "        # 按镜像顺序入队子节点\n",
    "        queue.append(left.left)\n",
    "        queue.append(right.right)\n",
    "        queue.append(left.right)\n",
    "        queue.append(right.left)\n",
    "    \n",
    "    return True\n",
    "\n",
    "# 测试用例   \n",
    "root1 = TreeNode(1,TreeNode(2, TreeNode(3), TreeNode(4)),TreeNode(2, TreeNode(4), TreeNode(3)))   \n",
    "print(f\"root1的轴对称输出是：{isSymmetric(root1)}\")  \n",
    "root2 = TreeNode(1,TreeNode(2, None, TreeNode(3)),TreeNode(2, None, TreeNode(3)))   \n",
    "print(f\"root2的轴对称输出是：{isSymmetric(root2)}\")  "
   ]
  },
  {
   "cell_type": "markdown",
   "metadata": {},
   "source": [
    "## 问题 11  \n",
    "\n",
    "给你一个由 '1'（陆地）和 '0'（水）组成的的二维网格，请你计算网格中岛屿的数量。岛屿总是被水包围，并且每座岛屿只能由水平方向和/或竖直方向上相邻的陆地连接形成。\n",
    "\n",
    "此外，你可以假设该网格的四条边均被水包围。\n",
    "\n",
    "分析算法设计思路，计算时间复杂度，并基于python编程实现\n",
    "\n",
    "e.g.:\n",
    "---\n",
    "1.\n",
    "输入：grid = [\n",
    "\n",
    "    [\"1\",\"1\",\"1\",\"1\",\"0\"],\n",
    "\n",
    "    [\"1\",\"1\",\"0\",\"1\",\"0\"], \n",
    "\n",
    "    [\"1\",\"1\",\"0\",\"0\",\"0\"], \n",
    "\n",
    "    [\"0\",\"0\",\"0\",\"0\",\"0\"]  \n",
    "\n",
    "]\n",
    "\n",
    "输出：1\n",
    "\n",
    "2.\n",
    "输入：grid = [\n",
    "\n",
    "    [\"1\",\"1\",\"0\",\"0\",\"0\"],\n",
    "\n",
    "    [\"1\",\"1\",\"0\",\"0\",\"0\"],\n",
    "\n",
    "    [\"0\",\"0\",\"1\",\"0\",\"0\"],\n",
    "\n",
    "    [\"0\",\"0\",\"0\",\"1\",\"1\"]\n",
    "\n",
    "]\n",
    "\n",
    "输出：3"
   ]
  },
  {
   "cell_type": "markdown",
   "metadata": {},
   "source": [
    "idea：解决这个题可以使用深度优先搜索算法进行遍历，在其中结合标记已经访问过的陆地来解决问题。我们首先遍历每个单元格，如果发现'1'，说明找到一个新岛屿，计数器加 1（因为它一定是岛屿或者岛屿的一部分），并调用深度优先搜索算法进行标记和访问相连的陆地。在深度优先搜索算法中将当前陆地标记为已访问并递归访问四个方向的相邻单元格，如果越界或当前单元格不是陆地，则返回。而在此算法中因为有嵌套循环，分别为行和列的长度，因此时间复杂度为$\\theta(rows)×\\theta(cols)=\\theta(rows×cols)$。"
   ]
  },
  {
   "cell_type": "code",
   "execution_count": 42,
   "metadata": {},
   "outputs": [
    {
     "name": "stdout",
     "output_type": "stream",
     "text": [
      "grd1的岛屿数量为：1个\n",
      "grd2的岛屿数量为：3个\n"
     ]
    }
   ],
   "source": [
    "# add your code here\n",
    "# your algorithm time complexity is:Θ（rows×cols）\n",
    "def numIslands(grid):\n",
    "    # 如果网格为空，直接返回0\n",
    "    if not grid:\n",
    "        return 0\n",
    "\n",
    "    count = 0  # 初始化岛屿计数器\n",
    "    rows, cols = len(grid), len(grid[0])  # 获取网格的行数和列数\n",
    "\n",
    "    # 定义DFS函数，用于标记和访问相连的陆地\n",
    "    def dfs(i, j):\n",
    "        # 检查边界条件：如果越界或当前单元格不是陆地，则返回\n",
    "        if i < 0 or i >= rows or j < 0 or j >= cols or grid[i][j] != '1':\n",
    "            return\n",
    "        # 将当前陆地标记为已访问\n",
    "        grid[i][j] = '0'\n",
    "        # 递归访问四个方向的相邻单元格\n",
    "        dfs(i + 1, j)  # 下\n",
    "        dfs(i - 1, j)  # 上\n",
    "        dfs(i, j + 1)  # 右\n",
    "        dfs(i, j - 1)  # 左\n",
    "\n",
    "    # 遍历整个网格\n",
    "    for i in range(rows):\n",
    "        for j in range(cols):\n",
    "            # 如果发现未访问的陆地，则增加岛屿计数，并DFS标记整个岛屿\n",
    "            if grid[i][j] == '1':\n",
    "                count += 1\n",
    "                dfs(i, j)  # 标记整个岛屿\n",
    "\n",
    "    return count  # 返回岛屿数量\n",
    "\n",
    "   \n",
    "# 测试用例   \n",
    "grid1 = [\n",
    "    [\"1\", \"1\", \"1\", \"1\", \"0\"],\n",
    "    [\"1\", \"1\", \"0\", \"1\", \"0\"],\n",
    "    [\"1\", \"1\", \"0\", \"0\", \"0\"],\n",
    "    [\"0\", \"0\", \"0\", \"0\", \"0\"]   \n",
    "]   \n",
    "print(f\"grd1的岛屿数量为：{numIslands(grid1)}个\") \n",
    "   \n",
    "grid2 = [\n",
    "    [\"1\", \"1\", \"0\", \"0\", \"0\"],\n",
    "    [\"1\", \"1\", \"0\", \"0\", \"0\"],\n",
    "    [\"0\", \"0\", \"1\", \"0\", \"0\"],\n",
    "    [\"0\", \"0\", \"0\", \"1\", \"1\"]   \n",
    "]   \n",
    "print(f\"grd2的岛屿数量为：{numIslands(grid2)}个\") \n"
   ]
  }
 ],
 "metadata": {
  "kernelspec": {
   "display_name": "Algorithm",
   "language": "python",
   "name": "algorithm"
  },
  "language_info": {
   "codemirror_mode": {
    "name": "ipython",
    "version": 3
   },
   "file_extension": ".py",
   "mimetype": "text/x-python",
   "name": "python",
   "nbconvert_exporter": "python",
   "pygments_lexer": "ipython3",
   "version": "3.10.16"
  }
 },
 "nbformat": 4,
 "nbformat_minor": 4
}
