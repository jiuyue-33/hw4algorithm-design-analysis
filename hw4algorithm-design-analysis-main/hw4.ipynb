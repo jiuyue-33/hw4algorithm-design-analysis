{
 "cells": [
  {
   "cell_type": "markdown",
   "metadata": {},
   "source": [
    "## algorithm design and anlysis-2025 spring  homework 4\n",
    "**Deadline**：2025.5.14\n",
    "\n",
    "**name**:王姗姗\n",
    "\n",
    "\n",
    "note：\n",
    "---\n",
    "1. 带有\\*的题目，申请免上课的同学，必须完成，其他同学选作；\n",
    "2. 请独立完成，如求助了他人或者大模型，请著明，并且不可省略算法分析部分；\n",
    "4. 如若作答有雷同，全部取消成绩；\n",
    "3. 需要书面作答的题目，可以通过引用图片的形式添加，但是注意上传项目时包含所引用的图片的源文件；\n",
    "4. $log_n$ 默认表示$log_2{n}$;"
   ]
  },
  {
   "cell_type": "markdown",
   "metadata": {},
   "source": [
    "## 问题 1 \n",
    "**最小生成树（Minimum Spanning Tree）**\n",
    "\n",
    "设  **G**  为一个带权重的连通无向图，且所有边的权重均不相等。令$e_i$ 为权重第 $i$ 小的边。最小生成树（MST）是否必须包含 $e_1$ ? 同理，是否必须包含 $e_2$ 和 $e_3$ ? 若必须包含，请给出证明；否则，请构造反例。需从基本原理论证，不能依赖割引理(cut lemma) 或 Prim/Kruskal算法的正确性。\n"
   ]
  },
  {
   "cell_type": "markdown",
   "metadata": {},
   "source": [
    "answer:<img src=\"./fig/hw4q1-answer.jpg\" alt=\"drawing\" width=\"60%\"/>"
   ]
  },
  {
   "cell_type": "markdown",
   "metadata": {},
   "source": [
    "## 问题 2 \n",
    "**瓶颈生成树（Bottleneck Spanning Tree）**\n",
    "\n",
    "带有权重的无向图 $G(V,E,w)$ 的瓶颈生成树，表现为：在所有生成树中，最大权重边的权重值最小。即，BST $T$ 最小化瓶颈损失 $c(T)=max_{e \\in T}{w(e)}$。\n",
    "\n",
    "1. 证明 $G$ 的每一个最小生成树（MST）都是瓶颈生成树（BST）\n",
    "2. 设计一个线性时间复杂度的算法：， 对于一个图 $G(V,E,w)$ 和一个整数 $b$，判断图 $ G$ 是否存在一个瓶颈生成树，其最大权重边的权重不超过 $b$，分析算法设计思路，并基于python编程实现。\n",
    "3. 设计一个线性时间复杂度的算法：对于给定的图 $G(V,E,w)$，找到其瓶颈生成树，分析算法设计思路，并基于python编程实现。"
   ]
  },
  {
   "cell_type": "markdown",
   "metadata": {},
   "source": [
    "idea：\n",
    "1. 使用反证法证明：假设最小生成树$T$不是瓶颈生成树，那么存在一个瓶颈生成树$T'$，设他们最大的边的权重分别是$w(T')$和$w(T)$。由于$T$是最小生成树，因此$T'$的所有边的权重都$≤w(T')＜w(T)$。因此$T'$的所有边权重都比$T$的最大边权重更小，那么$T'$的总权重 一定小于$T$的总权重，与$T$是最小生成树矛盾，因此$G$的最小生成树都是瓶颈生成树。"
   ]
  },
  {
   "cell_type": "markdown",
   "metadata": {},
   "source": [
    "idea：\n",
    "2. 如果要使最大权重不超过$b$的话，那么我们可以将所有权重大于$b$的边删除掉，然后检查剩余子图是否连通，若是连通的话那么就存在这样的一个瓶颈生成树，否则将不存在。检查剩余子图是否连通可以采用广度优先搜索算法来实现。在这整个过程中遍历所有边的时间复杂度为$O(E)$，进行广度优先搜索时的时间复杂度为$O(V+E')$，其中$E'≤E$，因此总的时间复杂度为$O(V+E)$，为线性的时间复杂度。"
   ]
  },
  {
   "cell_type": "code",
   "execution_count": 13,
   "metadata": {},
   "outputs": [
    {
     "name": "stdout",
     "output_type": "stream",
     "text": [
      "图G存在一个瓶颈生成树，其最大权重边的权重不超过b\n"
     ]
    }
   ],
   "source": [
    "# add your code here\n",
    "# algorithm of the liear time complexity \n",
    "from collections import defaultdict, deque\n",
    "#判断图 G 是否存在一个瓶颈生成树，其最大边权重<= b\n",
    "def bst_maxb(G, b):\n",
    "    # 构建子图 G'，仅保留权重<= b的边\n",
    "    G_prime = defaultdict(list)\n",
    "    for u in G:\n",
    "        for (v, w) in G[u]:\n",
    "            if w <= b:\n",
    "                G_prime[u].append(v)    # 无向图需双向添加\n",
    "                G_prime[v].append(u) \n",
    "\n",
    "    # 边界情况\n",
    "    if not G_prime:\n",
    "        return False\n",
    "\n",
    "    # 使用广度优先搜索检查子图 G'的连通性\n",
    "    visited = set()   \n",
    "    queue = deque()                  \n",
    "    start_node = next(iter(G_prime))    # 从第一个顶点开始\n",
    "    queue.append(start_node)\n",
    "    visited.add(start_node)\n",
    "\n",
    "    # 广度优先搜索\n",
    "    while queue:\n",
    "        u = queue.popleft()\n",
    "        # 遍历所有邻接顶点\n",
    "        for v in G_prime[u]:           \n",
    "            if v not in visited:\n",
    "                visited.add(v)          # 标记为已访问\n",
    "                queue.append(v)         # 加入队列继续扩展\n",
    "                \n",
    "    # 判断是否访问了所有顶点\n",
    "    return len(visited) == len(G_prime)\n",
    "   \n",
    "# 测试用例   \n",
    "G = {\n",
    "    0: [(1, 1), (2, 4)],\n",
    "    1: [(0, 1), (2, 2)],\n",
    "    2: [(0, 4), (1, 2), (3, 3)],\n",
    "    3: [(2, 3)]\n",
    "}\n",
    "if bst_maxb(G, 3) :\n",
    "    print(f\"图G存在一个瓶颈生成树，其最大权重边的权重不超过b\")\n",
    "else:\n",
    "    print(f\"图G不存在一个瓶颈生成树，其最大权重边的权重不超过b\")"
   ]
  },
  {
   "cell_type": "markdown",
   "metadata": {},
   "source": [
    "idea：\n",
    "3. 由第一个问我们可以知道最小生成树一定是瓶颈生成树，因此这个题可以通过找到最小生成树来解决问题。而寻找最小生成树的经典算法为克鲁斯卡尔算法，我们采用这个算法来解决问题的话不满足要求，因为标准的克鲁斯卡尔算法的时间复杂度为$O(ElogE)$，因此要进行改进，我们要使用线性的排序算法因此可以结合桶排序来解决问题。这样一来我们先使用桶排序对所有边的权重进行排序，然后使用克鲁斯卡尔算法来解决问题。桶排序的时间复杂度为$O(E + w)$，$w$为权重范围，使用克鲁斯卡尔算法的时间复杂度为$O(|E|·α(|V|))$。因此在权重范围有限的情况下为线性的时间复杂度。"
   ]
  },
  {
   "cell_type": "code",
   "execution_count": 14,
   "metadata": {},
   "outputs": [
    {
     "name": "stdout",
     "output_type": "stream",
     "text": [
      "G的瓶颈生成树的边为：[(0, 1, 1), (1, 2, 2), (2, 3, 3)]\n"
     ]
    }
   ],
   "source": [
    "# add your code here\n",
    "# algorithm of the liear time complexity \n",
    "#查找和合并操作，高效管理节点的连通性\n",
    "class UnionFind:\n",
    "    def __init__(self, size):\n",
    "        # 初始化父节点数组，每个节点的父节点初始化为自己\n",
    "        self.parent = list(range(size))\n",
    "     # 查找x的根节点，并进行路径压缩优化\n",
    "    def find(self, x):\n",
    "        if self.parent[x] != x:\n",
    "            self.parent[x] = self.find(self.parent[x])\n",
    "        return self.parent[x]\n",
    "    \n",
    "    # 合并x和y所在的集合\n",
    "    def union(self, x, y):\n",
    "        x_root = self.find(x)\n",
    "        y_root = self.find(y)\n",
    "        if x_root != y_root:\n",
    "            # 将y的根节点指向x的根节点\n",
    "            self.parent[y_root] = x_root  \n",
    "            return True  \n",
    "        return False \n",
    "\n",
    "#寻找图的瓶颈生成树\n",
    "def findbst(G):\n",
    "    # 提取所有边\n",
    "    edges = []\n",
    "    for u in G:\n",
    "        for (v, w) in G[u]:\n",
    "            # 确保每条边只存储一次\n",
    "            if u < v:  \n",
    "                edges.append((w, u, v))  \n",
    "    # 桶排序\n",
    "    min_w = min(w for w, _, _ in edges)\n",
    "    max_w = max(w for w, _, _ in edges)\n",
    "    # 创建桶\n",
    "    num_buckets = max_w - min_w + 1\n",
    "    buckets = [[] for _ in range(num_buckets)]\n",
    "    # 将边分配到对应的桶中\n",
    "    for w, u, v in edges:\n",
    "        buckets[w - min_w].append((u, v))  \n",
    "    \n",
    "    # 克鲁斯卡尔算法生成最小生成树\n",
    "    uf = UnionFind(len(G))  # 初始化并查集\n",
    "    bst_edges = [] \n",
    "    # 按权重从小到大处理每个桶\n",
    "    for w_bucket in range(num_buckets):\n",
    "        for u, v in buckets[w_bucket]:\n",
    "            if uf.union(u, v):\n",
    "                # 合并成功，将边加入生成树\n",
    "                bst_edges.append((u, v, w_bucket + min_w))  \n",
    "                # 如果已经形成生成树（边数=顶点数-1），直接返回\n",
    "                if len(bst_edges) == len(G) - 1:\n",
    "                    return bst_edges\n",
    "    \n",
    "    return bst_edges \n",
    "   \n",
    "# 测试用例   \n",
    "G = {\n",
    "    0: [(1, 1), (2, 4)], \n",
    "    1: [(0, 1), (2, 2)],  \n",
    "    2: [(0, 4), (1, 2), (3, 3)],\n",
    "    3: [(2, 3)] \n",
    "}\n",
    "bst = findbst(G)   \n",
    "print(f\"G的瓶颈生成树的边为：{bst}\")   "
   ]
  },
  {
   "cell_type": "markdown",
   "metadata": {},
   "source": [
    "## 问题 3\n",
    "\n",
    "**道路网（Road Network）**\n",
    "\n",
    "假设有一个以图 $ G(V, E, l) $ 表示的道路网络，连接了一组城市 $ V $。我们假设该网络是有向的，并且每条道路 $(u, v) \\in E$ 都有一个非负的长度 $ l(u, v) $。一条新的道路即将被建造，因此有一个列表 $ E' $ 包含它可以连接的城市对。每对 $(u, v) \\in E'$ 都有一个对应的长度 $ l'(u, v) $。我们希望选择一对城市，使得两个城市 $ s, t \\in V $ 之间的距离减少最大。请为此问题编写一个高效的算法，并详细解释算法的正确性和复杂度。\n"
   ]
  },
  {
   "cell_type": "markdown",
   "metadata": {},
   "source": [
    "idea：对于原始图，我们首先使用$Dijkstra$算法求$s$到其他城市的最短距离$d(s,)$，并在反向图上同样使用$Dijkstra$算法来求其他城市到$t$的最短距离d(,t)。对于每条候选道路，我们计算添加这条道路后s到t的潜在最短距离$d'$，然后计算距离减少量$\\Delta$，最后通过遍历所有候选道路，找到$\\Delta$最大的那条道路。在这个过程中我们两次使用$Dijkstra$算法的时间复杂度为$O(VlogV + E)$，对于遍历每条候选道路进行计算的时间复杂度为$O(E')$，因此总的时间复杂度为$O(VlogV + E + E')$。"
   ]
  },
  {
   "cell_type": "code",
   "execution_count": 15,
   "metadata": {},
   "outputs": [
    {
     "name": "stdout",
     "output_type": "stream",
     "text": [
      "最优候选道路为：(0, 3, 1)\n"
     ]
    }
   ],
   "source": [
    "# add your idea here\n",
    "# your algorithm time complexity is:O(VlogV + E + E')\n",
    "import heapq\n",
    "# Dijkstra算法\n",
    "def dijkstra(graph, start):\n",
    "    n = len(graph)\n",
    "    dist = [float('inf')] * n\n",
    "    dist[start] = 0\n",
    "    heap = [(0, start)]\n",
    "    while heap:\n",
    "        current_dist, u = heapq.heappop(heap)\n",
    "        if current_dist > dist[u]:\n",
    "            continue\n",
    "        for (v, w) in graph[u]:\n",
    "            if dist[v] > dist[u] + w:\n",
    "                dist[v] = dist[u] + w\n",
    "                heapq.heappush(heap, (dist[v], v))\n",
    "    return dist\n",
    "\n",
    "def find_best(G, E, s, t):\n",
    "\n",
    "    # 计算 d(s,)和 d(, t)\n",
    "    d_s = dijkstra(G, s)\n",
    "     # s和t原本不连通的话\n",
    "    if d_s[t] == float('inf'):\n",
    "        return None \n",
    "\n",
    "    # 构建反向图用于计算 d(, t)\n",
    "    reverse_G = [[] for _ in range(len(G))]\n",
    "    for u in range(len(G)):\n",
    "        for (v, w) in G[u]:\n",
    "            reverse_G[v].append((u, w))\n",
    "    d_t = dijkstra(reverse_G, t)\n",
    "    \n",
    "    max_reduction = 0\n",
    "    best_road = None\n",
    "    # 计算添加 (u, v) 后的 s 到 t 的最短距离\n",
    "    for (u, v, l_prime) in E:\n",
    "        new_dist = d_s[u] + l_prime + d_t[v]\n",
    "        reduction = d_s[t] - min(d_s[t], new_dist)\n",
    "        if reduction > max_reduction:\n",
    "            max_reduction = reduction\n",
    "            best_road = (u, v, l_prime)\n",
    "\n",
    "    return best_road \n",
    "\n",
    "# 测试用例\n",
    "#城市\n",
    "G = [\n",
    "    [(1, 2), (2, 5)],  \n",
    "    [(2, 1), (3, 4)],  \n",
    "    [(3, 2)],         \n",
    "    []       \n",
    "]\n",
    "#候选\n",
    "E = [\n",
    "    (0, 3, 1),  \n",
    "    (1, 0, 1) \n",
    "]\n",
    "s = 0\n",
    "t = 3\n",
    "print(f\"最优候选道路为：{find_best(G, E, s, t)}\")"
   ]
  },
  {
   "cell_type": "markdown",
   "metadata": {},
   "source": [
    "## 问题 4\n",
    "\n",
    "**逃离问题**\n",
    "\n",
    "一个 $ n \\times n $ 的网格是一个无向图，由 $ n $ 行和 $ n $ 列的顶点组成，如下图所示。我们用 $(i,j)$ 表示第 $ i $ 行和第 $ j $ 列的顶点。除了边界顶点，网格中的所有顶点都有四个邻居，即满足 $ i = 1, i = n, j = 1 $ 或 $ j = n $ 的点 $(i,j)$。\n",
    "\n",
    "给定网格中的 $ m \\leq n^2 $ 个起点 $(x_1, y_1), (x_2, y_2), \\cdots , (x_m, y_m)$，逃离问题是确定是否存在 $ m $ 条顶点不相交的路径（即路径之间不相交），从这些起点到边界上的任意 $ m $ 个不同点。例如，图1中的网格存在逃离。\n",
    "\n",
    "(1) 该问题可以看作是一个最大流问题。考虑一个流网络，其中顶点和边都有容量。也就是说，进入任何给定顶点的总正流量受到容量限制。证明在具有边和顶点容量的网络中确定最大流可以简化为在具有可比大小的普通流网络上的最大流问题。更准确地说，你需要将一个具有顶点和边容量的网络 $ G = (V,E) $ 转换为另一个仅具有边容量的网络 $ G' = (V', E') $，使得两个网络上的最大流相同，并且你构建的新网络具有 $ V' = O(V) $ 个顶点和 $ E' = O(E) $ 条边。你可以假设网络是连通的。\n",
    "\n",
    "(2) 描述一个解决逃离问题的高效算法，并分析其运行时间。\n",
    "\n",
    "\n",
    "<div align=\"center\"> <img alt=\"图片\" src=\"./fig/escepe-p.png\"> </div>\n",
    "<center> 图2. 逃脱问题网格，起始顶点为黑色，其他网格顶点为白色</center>"
   ]
  },
  {
   "cell_type": "markdown",
   "metadata": {},
   "source": [
    "idea：根据提示，我们首先构建流网络：将网格中的每个顶点看作一个顶点，对于网格中的边，由于路径不能相交因此将边的容量设为1，\n",
    "然后添加一个源点，并从源点向每个起点连接一条容量为1的边，再添加一个汇点，并从边界上的每个顶点向汇点连接一条容量为1的边。然后使用Edmonds-Karp算法来计算最大流。最后判断是否逃离，如果最大流的值等于起点的数量，则说明存在m条顶点不相交的路径从起点到边界上的点，即存在逃离；否则不存在逃离。而在这个算法中，因为需要处理网格中的每个顶点和边，构建流网络的时间复杂度为$O(n^2)$，Edmonds-Karp算法的时间复杂度为$O(VE^2)$，在我们的网格图中，$V=O(n^2)$，$E=O(n^2)$，所以计算最大流的时间复杂度为$O(n^6)$。因此算法的时间复杂度为$O(n^6)$。"
   ]
  }
 ],
 "metadata": {
  "kernelspec": {
   "display_name": "Algorithm",
   "language": "python",
   "name": "algorithm"
  },
  "language_info": {
   "codemirror_mode": {
    "name": "ipython",
    "version": 3
   },
   "file_extension": ".py",
   "mimetype": "text/x-python",
   "name": "python",
   "nbconvert_exporter": "python",
   "pygments_lexer": "ipython3",
   "version": "3.10.16"
  }
 },
 "nbformat": 4,
 "nbformat_minor": 4
}
